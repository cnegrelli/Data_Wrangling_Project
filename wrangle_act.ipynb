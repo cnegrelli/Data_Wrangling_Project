{
 "cells": [
  {
   "cell_type": "markdown",
   "metadata": {},
   "source": [
    "# Wrangling Data: WeRateDogs\n",
    "\n",
    "In this project we are going to gather, asses and clean data from the WeRateDogs Twitter account. Then we will analyze this data and present some insights and visualizations."
   ]
  },
  {
   "cell_type": "code",
   "execution_count": 21,
   "metadata": {},
   "outputs": [],
   "source": [
    "# import libraries\n",
    "import pandas as pd\n",
    "import requests\n",
    "import os\n",
    "import tweepy\n",
    "import numpy as np\n",
    "import json\n",
    "%matplotlib inline"
   ]
  },
  {
   "cell_type": "markdown",
   "metadata": {},
   "source": [
    "## Gathering data"
   ]
  },
  {
   "cell_type": "markdown",
   "metadata": {},
   "source": [
    "1) Read the file provided by Udacity that contains data from the tweets of WeRateDogs"
   ]
  },
  {
   "cell_type": "code",
   "execution_count": 3,
   "metadata": {},
   "outputs": [],
   "source": [
    "data = pd.read_csv('twitter-archive-enhanced.csv')"
   ]
  },
  {
   "cell_type": "markdown",
   "metadata": {},
   "source": [
    "2) Download programmatically the image file and read it"
   ]
  },
  {
   "cell_type": "code",
   "execution_count": 4,
   "metadata": {},
   "outputs": [],
   "source": [
    "url = 'https://d17h27t6h515a5.cloudfront.net/topher/2017/August/599fd2ad_image-predictions/image-predictions.tsv'\n",
    "response=requests.get(url)\n",
    "with open('./image-predictions.tsv',mode='wb') as file:\n",
    "    file.write(response.content)"
   ]
  },
  {
   "cell_type": "code",
   "execution_count": 5,
   "metadata": {},
   "outputs": [],
   "source": [
    "image_pred = pd.read_csv('image-predictions.tsv',sep='\\t')"
   ]
  },
  {
   "cell_type": "markdown",
   "metadata": {},
   "source": [
    "3) Query the Twitter API for each tweet's JSON data. Store in a file. read the file into a DataFrame"
   ]
  },
  {
   "cell_type": "code",
   "execution_count": 5,
   "metadata": {},
   "outputs": [],
   "source": [
    "consumer_key = '...'\n",
    "consumer_secret = '...'\n",
    "access_token = '...'\n",
    "access_secret = '...'\n",
    "\n",
    "auth = tweepy.OAuthHandler(consumer_key, consumer_secret)\n",
    "auth.set_access_token(access_token, access_secret)\n",
    "\n",
    "api = tweepy.API(auth, wait_on_rate_limit=True, wait_on_rate_limit_notify=True)"
   ]
  },
  {
   "cell_type": "code",
   "execution_count": 6,
   "metadata": {},
   "outputs": [
    {
     "name": "stdout",
     "output_type": "stream",
     "text": [
      "This is Phineas. He's a mystical boy. Only ever appears in the hole of a donut. 13/10 https://t.co/MgUWQ76dJU\n"
     ]
    }
   ],
   "source": [
    "# checking if works fine\n",
    "tweet = api.get_status(892420643555336193)\n",
    "print(tweet.text)"
   ]
  },
  {
   "cell_type": "code",
   "execution_count": 8,
   "metadata": {},
   "outputs": [
    {
     "name": "stdout",
     "output_type": "stream",
     "text": [
      "2356\n",
      "Rate limit reached. Sleeping for: 721\n",
      "Rate limit reached. Sleeping for: 711\n",
      "{888202515573088257: TweepError([{'code': 144, 'message': 'No status found with that ID.'}],), 873697596434513921: TweepError([{'code': 144, 'message': 'No status found with that ID.'}],), 872668790621863937: TweepError([{'code': 144, 'message': 'No status found with that ID.'}],), 872261713294495745: TweepError([{'code': 144, 'message': 'No status found with that ID.'}],), 869988702071779329: TweepError([{'code': 144, 'message': 'No status found with that ID.'}],), 866816280283807744: TweepError([{'code': 144, 'message': 'No status found with that ID.'}],), 861769973181624320: TweepError([{'code': 144, 'message': 'No status found with that ID.'}],), 856602993587888130: TweepError([{'code': 144, 'message': 'No status found with that ID.'}],), 851953902622658560: TweepError([{'code': 144, 'message': 'No status found with that ID.'}],), 845459076796616705: TweepError([{'code': 144, 'message': 'No status found with that ID.'}],), 844704788403113984: TweepError([{'code': 144, 'message': 'No status found with that ID.'}],), 842892208864923648: TweepError([{'code': 144, 'message': 'No status found with that ID.'}],), 837366284874571778: TweepError([{'code': 144, 'message': 'No status found with that ID.'}],), 837012587749474308: TweepError([{'code': 144, 'message': 'No status found with that ID.'}],), 829374341691346946: TweepError([{'code': 144, 'message': 'No status found with that ID.'}],), 827228250799742977: TweepError([{'code': 144, 'message': 'No status found with that ID.'}],), 812747805718642688: TweepError([{'code': 144, 'message': 'No status found with that ID.'}],), 802247111496568832: TweepError([{'code': 144, 'message': 'No status found with that ID.'}],), 779123168116150273: TweepError([{'code': 144, 'message': 'No status found with that ID.'}],), 775096608509886464: TweepError([{'code': 144, 'message': 'No status found with that ID.'}],), 771004394259247104: TweepError([{'code': 179, 'message': 'Sorry, you are not authorized to see this status.'}],), 770743923962707968: TweepError([{'code': 144, 'message': 'No status found with that ID.'}],), 759566828574212096: TweepError([{'code': 144, 'message': 'No status found with that ID.'}],), 754011816964026368: TweepError([{'code': 144, 'message': 'No status found with that ID.'}],), 680055455951884288: TweepError([{'code': 144, 'message': 'No status found with that ID.'}],)}\n"
     ]
    }
   ],
   "source": [
    "# works fine, lets gather the tweets ids from the data DataFrame\n",
    "ids= data.tweet_id.values\n",
    "print(len(ids))\n",
    "fails = {}\n",
    "check = 0\n",
    "with open('./tweet_json.txt', 'w') as file:\n",
    "    for tweet_id in ids:\n",
    "        check += 1\n",
    "        #print(check)\n",
    "        try:\n",
    "            tweet = api.get_status(tweet_id, tweet_mode='extended')\n",
    "            json.dump(tweet._json, file)\n",
    "            file.write('\\n')\n",
    "        except tweepy.TweepError as error:\n",
    "            fails[tweet_id] = error\n",
    "            pass\n",
    "print(fails)"
   ]
  },
  {
   "cell_type": "code",
   "execution_count": 6,
   "metadata": {},
   "outputs": [],
   "source": [
    "extra = pd.read_json('tweet_json.txt', lines=True)"
   ]
  },
  {
   "cell_type": "markdown",
   "metadata": {},
   "source": [
    "We already have all the information in three DataFrames: data, image_pred and extra. "
   ]
  },
  {
   "cell_type": "markdown",
   "metadata": {},
   "source": [
    "## Assesing data"
   ]
  },
  {
   "cell_type": "code",
   "execution_count": 12,
   "metadata": {},
   "outputs": [
    {
     "data": {
      "text/html": [
       "<div>\n",
       "<style scoped>\n",
       "    .dataframe tbody tr th:only-of-type {\n",
       "        vertical-align: middle;\n",
       "    }\n",
       "\n",
       "    .dataframe tbody tr th {\n",
       "        vertical-align: top;\n",
       "    }\n",
       "\n",
       "    .dataframe thead th {\n",
       "        text-align: right;\n",
       "    }\n",
       "</style>\n",
       "<table border=\"1\" class=\"dataframe\">\n",
       "  <thead>\n",
       "    <tr style=\"text-align: right;\">\n",
       "      <th></th>\n",
       "      <th>tweet_id</th>\n",
       "      <th>in_reply_to_status_id</th>\n",
       "      <th>in_reply_to_user_id</th>\n",
       "      <th>timestamp</th>\n",
       "      <th>source</th>\n",
       "      <th>text</th>\n",
       "      <th>retweeted_status_id</th>\n",
       "      <th>retweeted_status_user_id</th>\n",
       "      <th>retweeted_status_timestamp</th>\n",
       "      <th>expanded_urls</th>\n",
       "      <th>rating_numerator</th>\n",
       "      <th>rating_denominator</th>\n",
       "      <th>name</th>\n",
       "      <th>doggo</th>\n",
       "      <th>floofer</th>\n",
       "      <th>pupper</th>\n",
       "      <th>puppo</th>\n",
       "    </tr>\n",
       "  </thead>\n",
       "  <tbody>\n",
       "    <tr>\n",
       "      <th>0</th>\n",
       "      <td>892420643555336193</td>\n",
       "      <td>NaN</td>\n",
       "      <td>NaN</td>\n",
       "      <td>2017-08-01 16:23:56 +0000</td>\n",
       "      <td>&lt;a href=\"http://twitter.com/download/iphone\" r...</td>\n",
       "      <td>This is Phineas. He's a mystical boy. Only eve...</td>\n",
       "      <td>NaN</td>\n",
       "      <td>NaN</td>\n",
       "      <td>NaN</td>\n",
       "      <td>https://twitter.com/dog_rates/status/892420643...</td>\n",
       "      <td>13</td>\n",
       "      <td>10</td>\n",
       "      <td>Phineas</td>\n",
       "      <td>None</td>\n",
       "      <td>None</td>\n",
       "      <td>None</td>\n",
       "      <td>None</td>\n",
       "    </tr>\n",
       "    <tr>\n",
       "      <th>1</th>\n",
       "      <td>892177421306343426</td>\n",
       "      <td>NaN</td>\n",
       "      <td>NaN</td>\n",
       "      <td>2017-08-01 00:17:27 +0000</td>\n",
       "      <td>&lt;a href=\"http://twitter.com/download/iphone\" r...</td>\n",
       "      <td>This is Tilly. She's just checking pup on you....</td>\n",
       "      <td>NaN</td>\n",
       "      <td>NaN</td>\n",
       "      <td>NaN</td>\n",
       "      <td>https://twitter.com/dog_rates/status/892177421...</td>\n",
       "      <td>13</td>\n",
       "      <td>10</td>\n",
       "      <td>Tilly</td>\n",
       "      <td>None</td>\n",
       "      <td>None</td>\n",
       "      <td>None</td>\n",
       "      <td>None</td>\n",
       "    </tr>\n",
       "    <tr>\n",
       "      <th>2</th>\n",
       "      <td>891815181378084864</td>\n",
       "      <td>NaN</td>\n",
       "      <td>NaN</td>\n",
       "      <td>2017-07-31 00:18:03 +0000</td>\n",
       "      <td>&lt;a href=\"http://twitter.com/download/iphone\" r...</td>\n",
       "      <td>This is Archie. He is a rare Norwegian Pouncin...</td>\n",
       "      <td>NaN</td>\n",
       "      <td>NaN</td>\n",
       "      <td>NaN</td>\n",
       "      <td>https://twitter.com/dog_rates/status/891815181...</td>\n",
       "      <td>12</td>\n",
       "      <td>10</td>\n",
       "      <td>Archie</td>\n",
       "      <td>None</td>\n",
       "      <td>None</td>\n",
       "      <td>None</td>\n",
       "      <td>None</td>\n",
       "    </tr>\n",
       "    <tr>\n",
       "      <th>3</th>\n",
       "      <td>891689557279858688</td>\n",
       "      <td>NaN</td>\n",
       "      <td>NaN</td>\n",
       "      <td>2017-07-30 15:58:51 +0000</td>\n",
       "      <td>&lt;a href=\"http://twitter.com/download/iphone\" r...</td>\n",
       "      <td>This is Darla. She commenced a snooze mid meal...</td>\n",
       "      <td>NaN</td>\n",
       "      <td>NaN</td>\n",
       "      <td>NaN</td>\n",
       "      <td>https://twitter.com/dog_rates/status/891689557...</td>\n",
       "      <td>13</td>\n",
       "      <td>10</td>\n",
       "      <td>Darla</td>\n",
       "      <td>None</td>\n",
       "      <td>None</td>\n",
       "      <td>None</td>\n",
       "      <td>None</td>\n",
       "    </tr>\n",
       "    <tr>\n",
       "      <th>4</th>\n",
       "      <td>891327558926688256</td>\n",
       "      <td>NaN</td>\n",
       "      <td>NaN</td>\n",
       "      <td>2017-07-29 16:00:24 +0000</td>\n",
       "      <td>&lt;a href=\"http://twitter.com/download/iphone\" r...</td>\n",
       "      <td>This is Franklin. He would like you to stop ca...</td>\n",
       "      <td>NaN</td>\n",
       "      <td>NaN</td>\n",
       "      <td>NaN</td>\n",
       "      <td>https://twitter.com/dog_rates/status/891327558...</td>\n",
       "      <td>12</td>\n",
       "      <td>10</td>\n",
       "      <td>Franklin</td>\n",
       "      <td>None</td>\n",
       "      <td>None</td>\n",
       "      <td>None</td>\n",
       "      <td>None</td>\n",
       "    </tr>\n",
       "  </tbody>\n",
       "</table>\n",
       "</div>"
      ],
      "text/plain": [
       "             tweet_id  in_reply_to_status_id  in_reply_to_user_id  \\\n",
       "0  892420643555336193                    NaN                  NaN   \n",
       "1  892177421306343426                    NaN                  NaN   \n",
       "2  891815181378084864                    NaN                  NaN   \n",
       "3  891689557279858688                    NaN                  NaN   \n",
       "4  891327558926688256                    NaN                  NaN   \n",
       "\n",
       "                   timestamp  \\\n",
       "0  2017-08-01 16:23:56 +0000   \n",
       "1  2017-08-01 00:17:27 +0000   \n",
       "2  2017-07-31 00:18:03 +0000   \n",
       "3  2017-07-30 15:58:51 +0000   \n",
       "4  2017-07-29 16:00:24 +0000   \n",
       "\n",
       "                                              source  \\\n",
       "0  <a href=\"http://twitter.com/download/iphone\" r...   \n",
       "1  <a href=\"http://twitter.com/download/iphone\" r...   \n",
       "2  <a href=\"http://twitter.com/download/iphone\" r...   \n",
       "3  <a href=\"http://twitter.com/download/iphone\" r...   \n",
       "4  <a href=\"http://twitter.com/download/iphone\" r...   \n",
       "\n",
       "                                                text  retweeted_status_id  \\\n",
       "0  This is Phineas. He's a mystical boy. Only eve...                  NaN   \n",
       "1  This is Tilly. She's just checking pup on you....                  NaN   \n",
       "2  This is Archie. He is a rare Norwegian Pouncin...                  NaN   \n",
       "3  This is Darla. She commenced a snooze mid meal...                  NaN   \n",
       "4  This is Franklin. He would like you to stop ca...                  NaN   \n",
       "\n",
       "   retweeted_status_user_id retweeted_status_timestamp  \\\n",
       "0                       NaN                        NaN   \n",
       "1                       NaN                        NaN   \n",
       "2                       NaN                        NaN   \n",
       "3                       NaN                        NaN   \n",
       "4                       NaN                        NaN   \n",
       "\n",
       "                                       expanded_urls  rating_numerator  \\\n",
       "0  https://twitter.com/dog_rates/status/892420643...                13   \n",
       "1  https://twitter.com/dog_rates/status/892177421...                13   \n",
       "2  https://twitter.com/dog_rates/status/891815181...                12   \n",
       "3  https://twitter.com/dog_rates/status/891689557...                13   \n",
       "4  https://twitter.com/dog_rates/status/891327558...                12   \n",
       "\n",
       "   rating_denominator      name doggo floofer pupper puppo  \n",
       "0                  10   Phineas  None    None   None  None  \n",
       "1                  10     Tilly  None    None   None  None  \n",
       "2                  10    Archie  None    None   None  None  \n",
       "3                  10     Darla  None    None   None  None  \n",
       "4                  10  Franklin  None    None   None  None  "
      ]
     },
     "execution_count": 12,
     "metadata": {},
     "output_type": "execute_result"
    }
   ],
   "source": [
    "data.head()"
   ]
  },
  {
   "cell_type": "code",
   "execution_count": 13,
   "metadata": {},
   "outputs": [
    {
     "name": "stdout",
     "output_type": "stream",
     "text": [
      "<class 'pandas.core.frame.DataFrame'>\n",
      "RangeIndex: 2356 entries, 0 to 2355\n",
      "Data columns (total 17 columns):\n",
      "tweet_id                      2356 non-null int64\n",
      "in_reply_to_status_id         78 non-null float64\n",
      "in_reply_to_user_id           78 non-null float64\n",
      "timestamp                     2356 non-null object\n",
      "source                        2356 non-null object\n",
      "text                          2356 non-null object\n",
      "retweeted_status_id           181 non-null float64\n",
      "retweeted_status_user_id      181 non-null float64\n",
      "retweeted_status_timestamp    181 non-null object\n",
      "expanded_urls                 2297 non-null object\n",
      "rating_numerator              2356 non-null int64\n",
      "rating_denominator            2356 non-null int64\n",
      "name                          2356 non-null object\n",
      "doggo                         2356 non-null object\n",
      "floofer                       2356 non-null object\n",
      "pupper                        2356 non-null object\n",
      "puppo                         2356 non-null object\n",
      "dtypes: float64(4), int64(3), object(10)\n",
      "memory usage: 313.0+ KB\n"
     ]
    }
   ],
   "source": [
    "data.info()"
   ]
  },
  {
   "cell_type": "code",
   "execution_count": 14,
   "metadata": {},
   "outputs": [
    {
     "data": {
      "text/plain": [
       "tweet_id                        int64\n",
       "in_reply_to_status_id         float64\n",
       "in_reply_to_user_id           float64\n",
       "timestamp                      object\n",
       "source                         object\n",
       "text                           object\n",
       "retweeted_status_id           float64\n",
       "retweeted_status_user_id      float64\n",
       "retweeted_status_timestamp     object\n",
       "expanded_urls                  object\n",
       "rating_numerator                int64\n",
       "rating_denominator              int64\n",
       "name                           object\n",
       "doggo                          object\n",
       "floofer                        object\n",
       "pupper                         object\n",
       "puppo                          object\n",
       "dtype: object"
      ]
     },
     "execution_count": 14,
     "metadata": {},
     "output_type": "execute_result"
    }
   ],
   "source": [
    "data.dtypes"
   ]
  },
  {
   "cell_type": "code",
   "execution_count": 15,
   "metadata": {},
   "outputs": [
    {
     "data": {
      "text/html": [
       "<div>\n",
       "<style scoped>\n",
       "    .dataframe tbody tr th:only-of-type {\n",
       "        vertical-align: middle;\n",
       "    }\n",
       "\n",
       "    .dataframe tbody tr th {\n",
       "        vertical-align: top;\n",
       "    }\n",
       "\n",
       "    .dataframe thead th {\n",
       "        text-align: right;\n",
       "    }\n",
       "</style>\n",
       "<table border=\"1\" class=\"dataframe\">\n",
       "  <thead>\n",
       "    <tr style=\"text-align: right;\">\n",
       "      <th></th>\n",
       "      <th>tweet_id</th>\n",
       "      <th>in_reply_to_status_id</th>\n",
       "      <th>in_reply_to_user_id</th>\n",
       "      <th>retweeted_status_id</th>\n",
       "      <th>retweeted_status_user_id</th>\n",
       "      <th>rating_numerator</th>\n",
       "      <th>rating_denominator</th>\n",
       "    </tr>\n",
       "  </thead>\n",
       "  <tbody>\n",
       "    <tr>\n",
       "      <th>count</th>\n",
       "      <td>2.356000e+03</td>\n",
       "      <td>7.800000e+01</td>\n",
       "      <td>7.800000e+01</td>\n",
       "      <td>1.810000e+02</td>\n",
       "      <td>1.810000e+02</td>\n",
       "      <td>2356.000000</td>\n",
       "      <td>2356.000000</td>\n",
       "    </tr>\n",
       "    <tr>\n",
       "      <th>mean</th>\n",
       "      <td>7.427716e+17</td>\n",
       "      <td>7.455079e+17</td>\n",
       "      <td>2.014171e+16</td>\n",
       "      <td>7.720400e+17</td>\n",
       "      <td>1.241698e+16</td>\n",
       "      <td>13.126486</td>\n",
       "      <td>10.455433</td>\n",
       "    </tr>\n",
       "    <tr>\n",
       "      <th>std</th>\n",
       "      <td>6.856705e+16</td>\n",
       "      <td>7.582492e+16</td>\n",
       "      <td>1.252797e+17</td>\n",
       "      <td>6.236928e+16</td>\n",
       "      <td>9.599254e+16</td>\n",
       "      <td>45.876648</td>\n",
       "      <td>6.745237</td>\n",
       "    </tr>\n",
       "    <tr>\n",
       "      <th>min</th>\n",
       "      <td>6.660209e+17</td>\n",
       "      <td>6.658147e+17</td>\n",
       "      <td>1.185634e+07</td>\n",
       "      <td>6.661041e+17</td>\n",
       "      <td>7.832140e+05</td>\n",
       "      <td>0.000000</td>\n",
       "      <td>0.000000</td>\n",
       "    </tr>\n",
       "    <tr>\n",
       "      <th>25%</th>\n",
       "      <td>6.783989e+17</td>\n",
       "      <td>6.757419e+17</td>\n",
       "      <td>3.086374e+08</td>\n",
       "      <td>7.186315e+17</td>\n",
       "      <td>4.196984e+09</td>\n",
       "      <td>10.000000</td>\n",
       "      <td>10.000000</td>\n",
       "    </tr>\n",
       "    <tr>\n",
       "      <th>50%</th>\n",
       "      <td>7.196279e+17</td>\n",
       "      <td>7.038708e+17</td>\n",
       "      <td>4.196984e+09</td>\n",
       "      <td>7.804657e+17</td>\n",
       "      <td>4.196984e+09</td>\n",
       "      <td>11.000000</td>\n",
       "      <td>10.000000</td>\n",
       "    </tr>\n",
       "    <tr>\n",
       "      <th>75%</th>\n",
       "      <td>7.993373e+17</td>\n",
       "      <td>8.257804e+17</td>\n",
       "      <td>4.196984e+09</td>\n",
       "      <td>8.203146e+17</td>\n",
       "      <td>4.196984e+09</td>\n",
       "      <td>12.000000</td>\n",
       "      <td>10.000000</td>\n",
       "    </tr>\n",
       "    <tr>\n",
       "      <th>max</th>\n",
       "      <td>8.924206e+17</td>\n",
       "      <td>8.862664e+17</td>\n",
       "      <td>8.405479e+17</td>\n",
       "      <td>8.874740e+17</td>\n",
       "      <td>7.874618e+17</td>\n",
       "      <td>1776.000000</td>\n",
       "      <td>170.000000</td>\n",
       "    </tr>\n",
       "  </tbody>\n",
       "</table>\n",
       "</div>"
      ],
      "text/plain": [
       "           tweet_id  in_reply_to_status_id  in_reply_to_user_id  \\\n",
       "count  2.356000e+03           7.800000e+01         7.800000e+01   \n",
       "mean   7.427716e+17           7.455079e+17         2.014171e+16   \n",
       "std    6.856705e+16           7.582492e+16         1.252797e+17   \n",
       "min    6.660209e+17           6.658147e+17         1.185634e+07   \n",
       "25%    6.783989e+17           6.757419e+17         3.086374e+08   \n",
       "50%    7.196279e+17           7.038708e+17         4.196984e+09   \n",
       "75%    7.993373e+17           8.257804e+17         4.196984e+09   \n",
       "max    8.924206e+17           8.862664e+17         8.405479e+17   \n",
       "\n",
       "       retweeted_status_id  retweeted_status_user_id  rating_numerator  \\\n",
       "count         1.810000e+02              1.810000e+02       2356.000000   \n",
       "mean          7.720400e+17              1.241698e+16         13.126486   \n",
       "std           6.236928e+16              9.599254e+16         45.876648   \n",
       "min           6.661041e+17              7.832140e+05          0.000000   \n",
       "25%           7.186315e+17              4.196984e+09         10.000000   \n",
       "50%           7.804657e+17              4.196984e+09         11.000000   \n",
       "75%           8.203146e+17              4.196984e+09         12.000000   \n",
       "max           8.874740e+17              7.874618e+17       1776.000000   \n",
       "\n",
       "       rating_denominator  \n",
       "count         2356.000000  \n",
       "mean            10.455433  \n",
       "std              6.745237  \n",
       "min              0.000000  \n",
       "25%             10.000000  \n",
       "50%             10.000000  \n",
       "75%             10.000000  \n",
       "max            170.000000  "
      ]
     },
     "execution_count": 15,
     "metadata": {},
     "output_type": "execute_result"
    }
   ],
   "source": [
    "data.describe()"
   ]
  },
  {
   "cell_type": "code",
   "execution_count": 16,
   "metadata": {},
   "outputs": [
    {
     "data": {
      "text/html": [
       "<div>\n",
       "<style scoped>\n",
       "    .dataframe tbody tr th:only-of-type {\n",
       "        vertical-align: middle;\n",
       "    }\n",
       "\n",
       "    .dataframe tbody tr th {\n",
       "        vertical-align: top;\n",
       "    }\n",
       "\n",
       "    .dataframe thead th {\n",
       "        text-align: right;\n",
       "    }\n",
       "</style>\n",
       "<table border=\"1\" class=\"dataframe\">\n",
       "  <thead>\n",
       "    <tr style=\"text-align: right;\">\n",
       "      <th></th>\n",
       "      <th>text</th>\n",
       "      <th>rating_denominator</th>\n",
       "    </tr>\n",
       "  </thead>\n",
       "  <tbody>\n",
       "    <tr>\n",
       "      <th>313</th>\n",
       "      <td>@jonnysun @Lin_Manuel ok jomny I know you're e...</td>\n",
       "      <td>0</td>\n",
       "    </tr>\n",
       "    <tr>\n",
       "      <th>342</th>\n",
       "      <td>@docmisterio account started on 11/15/15</td>\n",
       "      <td>15</td>\n",
       "    </tr>\n",
       "    <tr>\n",
       "      <th>433</th>\n",
       "      <td>The floofs have been released I repeat the flo...</td>\n",
       "      <td>70</td>\n",
       "    </tr>\n",
       "    <tr>\n",
       "      <th>516</th>\n",
       "      <td>Meet Sam. She smiles 24/7 &amp;amp; secretly aspir...</td>\n",
       "      <td>7</td>\n",
       "    </tr>\n",
       "    <tr>\n",
       "      <th>784</th>\n",
       "      <td>RT @dog_rates: After so many requests, this is...</td>\n",
       "      <td>11</td>\n",
       "    </tr>\n",
       "    <tr>\n",
       "      <th>902</th>\n",
       "      <td>Why does this never happen at my front door......</td>\n",
       "      <td>150</td>\n",
       "    </tr>\n",
       "    <tr>\n",
       "      <th>1068</th>\n",
       "      <td>After so many requests, this is Bretagne. She ...</td>\n",
       "      <td>11</td>\n",
       "    </tr>\n",
       "    <tr>\n",
       "      <th>1120</th>\n",
       "      <td>Say hello to this unbelievably well behaved sq...</td>\n",
       "      <td>170</td>\n",
       "    </tr>\n",
       "    <tr>\n",
       "      <th>1165</th>\n",
       "      <td>Happy 4/20 from the squad! 13/10 for all https...</td>\n",
       "      <td>20</td>\n",
       "    </tr>\n",
       "    <tr>\n",
       "      <th>1202</th>\n",
       "      <td>This is Bluebert. He just saw that both #Final...</td>\n",
       "      <td>50</td>\n",
       "    </tr>\n",
       "    <tr>\n",
       "      <th>1228</th>\n",
       "      <td>Happy Saturday here's 9 puppers on a bench. 99...</td>\n",
       "      <td>90</td>\n",
       "    </tr>\n",
       "    <tr>\n",
       "      <th>1254</th>\n",
       "      <td>Here's a brigade of puppers. All look very pre...</td>\n",
       "      <td>80</td>\n",
       "    </tr>\n",
       "    <tr>\n",
       "      <th>1274</th>\n",
       "      <td>From left to right:\\nCletus, Jerome, Alejandro...</td>\n",
       "      <td>50</td>\n",
       "    </tr>\n",
       "    <tr>\n",
       "      <th>1351</th>\n",
       "      <td>Here is a whole flock of puppers.  60/50 I'll ...</td>\n",
       "      <td>50</td>\n",
       "    </tr>\n",
       "    <tr>\n",
       "      <th>1433</th>\n",
       "      <td>Happy Wednesday here's a bucket of pups. 44/40...</td>\n",
       "      <td>40</td>\n",
       "    </tr>\n",
       "    <tr>\n",
       "      <th>1598</th>\n",
       "      <td>Yes I do realize a rating of 4/20 would've bee...</td>\n",
       "      <td>20</td>\n",
       "    </tr>\n",
       "    <tr>\n",
       "      <th>1634</th>\n",
       "      <td>Two sneaky puppers were not initially seen, mo...</td>\n",
       "      <td>130</td>\n",
       "    </tr>\n",
       "    <tr>\n",
       "      <th>1635</th>\n",
       "      <td>Someone help the girl is being mugged. Several...</td>\n",
       "      <td>110</td>\n",
       "    </tr>\n",
       "    <tr>\n",
       "      <th>1662</th>\n",
       "      <td>This is Darrel. He just robbed a 7/11 and is i...</td>\n",
       "      <td>11</td>\n",
       "    </tr>\n",
       "    <tr>\n",
       "      <th>1663</th>\n",
       "      <td>I'm aware that I could've said 20/16, but here...</td>\n",
       "      <td>16</td>\n",
       "    </tr>\n",
       "    <tr>\n",
       "      <th>1779</th>\n",
       "      <td>IT'S PUPPERGEDDON. Total of 144/120 ...I think...</td>\n",
       "      <td>120</td>\n",
       "    </tr>\n",
       "    <tr>\n",
       "      <th>1843</th>\n",
       "      <td>Here we have an entire platoon of puppers. Tot...</td>\n",
       "      <td>80</td>\n",
       "    </tr>\n",
       "    <tr>\n",
       "      <th>2335</th>\n",
       "      <td>This is an Albanian 3 1/2 legged  Episcopalian...</td>\n",
       "      <td>2</td>\n",
       "    </tr>\n",
       "  </tbody>\n",
       "</table>\n",
       "</div>"
      ],
      "text/plain": [
       "                                                   text  rating_denominator\n",
       "313   @jonnysun @Lin_Manuel ok jomny I know you're e...                   0\n",
       "342            @docmisterio account started on 11/15/15                  15\n",
       "433   The floofs have been released I repeat the flo...                  70\n",
       "516   Meet Sam. She smiles 24/7 &amp; secretly aspir...                   7\n",
       "784   RT @dog_rates: After so many requests, this is...                  11\n",
       "902   Why does this never happen at my front door......                 150\n",
       "1068  After so many requests, this is Bretagne. She ...                  11\n",
       "1120  Say hello to this unbelievably well behaved sq...                 170\n",
       "1165  Happy 4/20 from the squad! 13/10 for all https...                  20\n",
       "1202  This is Bluebert. He just saw that both #Final...                  50\n",
       "1228  Happy Saturday here's 9 puppers on a bench. 99...                  90\n",
       "1254  Here's a brigade of puppers. All look very pre...                  80\n",
       "1274  From left to right:\\nCletus, Jerome, Alejandro...                  50\n",
       "1351  Here is a whole flock of puppers.  60/50 I'll ...                  50\n",
       "1433  Happy Wednesday here's a bucket of pups. 44/40...                  40\n",
       "1598  Yes I do realize a rating of 4/20 would've bee...                  20\n",
       "1634  Two sneaky puppers were not initially seen, mo...                 130\n",
       "1635  Someone help the girl is being mugged. Several...                 110\n",
       "1662  This is Darrel. He just robbed a 7/11 and is i...                  11\n",
       "1663  I'm aware that I could've said 20/16, but here...                  16\n",
       "1779  IT'S PUPPERGEDDON. Total of 144/120 ...I think...                 120\n",
       "1843  Here we have an entire platoon of puppers. Tot...                  80\n",
       "2335  This is an Albanian 3 1/2 legged  Episcopalian...                   2"
      ]
     },
     "execution_count": 16,
     "metadata": {},
     "output_type": "execute_result"
    }
   ],
   "source": [
    "#all the denominators should be 10, lets take a look\n",
    "data[data.rating_denominator != 10][['text','rating_denominator']]"
   ]
  },
  {
   "cell_type": "code",
   "execution_count": 17,
   "metadata": {},
   "outputs": [
    {
     "data": {
      "text/plain": [
       "0"
      ]
     },
     "execution_count": 17,
     "metadata": {},
     "output_type": "execute_result"
    }
   ],
   "source": [
    "data.tweet_id.duplicated().sum()"
   ]
  },
  {
   "cell_type": "code",
   "execution_count": 18,
   "metadata": {},
   "outputs": [
    {
     "data": {
      "text/plain": [
       "None            745\n",
       "a                55\n",
       "Charlie          12\n",
       "Oliver           11\n",
       "Cooper           11\n",
       "Lucy             11\n",
       "Tucker           10\n",
       "Penny            10\n",
       "Lola             10\n",
       "Winston           9\n",
       "Bo                9\n",
       "the               8\n",
       "Sadie             8\n",
       "an                7\n",
       "Buddy             7\n",
       "Bailey            7\n",
       "Toby              7\n",
       "Daisy             7\n",
       "Bella             6\n",
       "Scout             6\n",
       "Rusty             6\n",
       "Dave              6\n",
       "Jax               6\n",
       "Jack              6\n",
       "Stanley           6\n",
       "Oscar             6\n",
       "Leo               6\n",
       "Milo              6\n",
       "Koda              6\n",
       "Larry             5\n",
       "               ... \n",
       "incredibly        1\n",
       "Christoper        1\n",
       "Adele             1\n",
       "Kona              1\n",
       "Luther            1\n",
       "Autumn            1\n",
       "Alexanderson      1\n",
       "light             1\n",
       "Zuzu              1\n",
       "Skittle           1\n",
       "Ralphé            1\n",
       "Mo                1\n",
       "Nigel             1\n",
       "Miguel            1\n",
       "Tilly             1\n",
       "Grizz             1\n",
       "Kawhi             1\n",
       "Major             1\n",
       "Gerbald           1\n",
       "Harlso            1\n",
       "Kendall           1\n",
       "Severus           1\n",
       "Bodie             1\n",
       "Jarod             1\n",
       "Nico              1\n",
       "Einstein          1\n",
       "Rizzo             1\n",
       "Rueben            1\n",
       "Ashleigh          1\n",
       "Poppy             1\n",
       "Name: name, Length: 957, dtype: int64"
      ]
     },
     "execution_count": 18,
     "metadata": {},
     "output_type": "execute_result"
    }
   ],
   "source": [
    "data.name.value_counts()"
   ]
  },
  {
   "cell_type": "code",
   "execution_count": 19,
   "metadata": {},
   "outputs": [
    {
     "data": {
      "text/html": [
       "<div>\n",
       "<style scoped>\n",
       "    .dataframe tbody tr th:only-of-type {\n",
       "        vertical-align: middle;\n",
       "    }\n",
       "\n",
       "    .dataframe tbody tr th {\n",
       "        vertical-align: top;\n",
       "    }\n",
       "\n",
       "    .dataframe thead th {\n",
       "        text-align: right;\n",
       "    }\n",
       "</style>\n",
       "<table border=\"1\" class=\"dataframe\">\n",
       "  <thead>\n",
       "    <tr style=\"text-align: right;\">\n",
       "      <th></th>\n",
       "      <th>tweet_id</th>\n",
       "      <th>jpg_url</th>\n",
       "      <th>img_num</th>\n",
       "      <th>p1</th>\n",
       "      <th>p1_conf</th>\n",
       "      <th>p1_dog</th>\n",
       "      <th>p2</th>\n",
       "      <th>p2_conf</th>\n",
       "      <th>p2_dog</th>\n",
       "      <th>p3</th>\n",
       "      <th>p3_conf</th>\n",
       "      <th>p3_dog</th>\n",
       "    </tr>\n",
       "  </thead>\n",
       "  <tbody>\n",
       "    <tr>\n",
       "      <th>221</th>\n",
       "      <td>670093938074779648</td>\n",
       "      <td>https://pbs.twimg.com/media/CUym4Y5WsAEiI9_.jpg</td>\n",
       "      <td>1</td>\n",
       "      <td>toy_poodle</td>\n",
       "      <td>0.383346</td>\n",
       "      <td>True</td>\n",
       "      <td>miniature_poodle</td>\n",
       "      <td>0.153678</td>\n",
       "      <td>True</td>\n",
       "      <td>chow</td>\n",
       "      <td>0.138543</td>\n",
       "      <td>True</td>\n",
       "    </tr>\n",
       "    <tr>\n",
       "      <th>1417</th>\n",
       "      <td>771171053431250945</td>\n",
       "      <td>https://pbs.twimg.com/media/CVgdFjNWEAAxmbq.jpg</td>\n",
       "      <td>3</td>\n",
       "      <td>Samoyed</td>\n",
       "      <td>0.978833</td>\n",
       "      <td>True</td>\n",
       "      <td>Pomeranian</td>\n",
       "      <td>0.012763</td>\n",
       "      <td>True</td>\n",
       "      <td>Eskimo_dog</td>\n",
       "      <td>0.001853</td>\n",
       "      <td>True</td>\n",
       "    </tr>\n",
       "    <tr>\n",
       "      <th>840</th>\n",
       "      <td>694669722378485760</td>\n",
       "      <td>https://pbs.twimg.com/media/CaP2bS8WYAAsMdx.jpg</td>\n",
       "      <td>2</td>\n",
       "      <td>beaver</td>\n",
       "      <td>0.457094</td>\n",
       "      <td>False</td>\n",
       "      <td>mongoose</td>\n",
       "      <td>0.228298</td>\n",
       "      <td>False</td>\n",
       "      <td>marmot</td>\n",
       "      <td>0.148309</td>\n",
       "      <td>False</td>\n",
       "    </tr>\n",
       "    <tr>\n",
       "      <th>778</th>\n",
       "      <td>689877686181715968</td>\n",
       "      <td>https://pbs.twimg.com/media/CZLwGAIWQAIYsTx.jpg</td>\n",
       "      <td>1</td>\n",
       "      <td>Old_English_sheepdog</td>\n",
       "      <td>0.269155</td>\n",
       "      <td>True</td>\n",
       "      <td>Tibetan_terrier</td>\n",
       "      <td>0.111496</td>\n",
       "      <td>True</td>\n",
       "      <td>Lakeland_terrier</td>\n",
       "      <td>0.104939</td>\n",
       "      <td>True</td>\n",
       "    </tr>\n",
       "    <tr>\n",
       "      <th>515</th>\n",
       "      <td>676263575653122048</td>\n",
       "      <td>https://pbs.twimg.com/media/CWKSIfUUYAAiOBO.jpg</td>\n",
       "      <td>1</td>\n",
       "      <td>teddy</td>\n",
       "      <td>0.098283</td>\n",
       "      <td>False</td>\n",
       "      <td>toy_poodle</td>\n",
       "      <td>0.098029</td>\n",
       "      <td>True</td>\n",
       "      <td>shopping_basket</td>\n",
       "      <td>0.077852</td>\n",
       "      <td>False</td>\n",
       "    </tr>\n",
       "  </tbody>\n",
       "</table>\n",
       "</div>"
      ],
      "text/plain": [
       "                tweet_id                                          jpg_url  \\\n",
       "221   670093938074779648  https://pbs.twimg.com/media/CUym4Y5WsAEiI9_.jpg   \n",
       "1417  771171053431250945  https://pbs.twimg.com/media/CVgdFjNWEAAxmbq.jpg   \n",
       "840   694669722378485760  https://pbs.twimg.com/media/CaP2bS8WYAAsMdx.jpg   \n",
       "778   689877686181715968  https://pbs.twimg.com/media/CZLwGAIWQAIYsTx.jpg   \n",
       "515   676263575653122048  https://pbs.twimg.com/media/CWKSIfUUYAAiOBO.jpg   \n",
       "\n",
       "      img_num                    p1   p1_conf  p1_dog                p2  \\\n",
       "221         1            toy_poodle  0.383346    True  miniature_poodle   \n",
       "1417        3               Samoyed  0.978833    True        Pomeranian   \n",
       "840         2                beaver  0.457094   False          mongoose   \n",
       "778         1  Old_English_sheepdog  0.269155    True   Tibetan_terrier   \n",
       "515         1                 teddy  0.098283   False        toy_poodle   \n",
       "\n",
       "       p2_conf  p2_dog                p3   p3_conf  p3_dog  \n",
       "221   0.153678    True              chow  0.138543    True  \n",
       "1417  0.012763    True        Eskimo_dog  0.001853    True  \n",
       "840   0.228298   False            marmot  0.148309   False  \n",
       "778   0.111496    True  Lakeland_terrier  0.104939    True  \n",
       "515   0.098029    True   shopping_basket  0.077852   False  "
      ]
     },
     "execution_count": 19,
     "metadata": {},
     "output_type": "execute_result"
    }
   ],
   "source": [
    "image_pred.sample(5)"
   ]
  },
  {
   "cell_type": "code",
   "execution_count": 20,
   "metadata": {},
   "outputs": [
    {
     "name": "stdout",
     "output_type": "stream",
     "text": [
      "<class 'pandas.core.frame.DataFrame'>\n",
      "RangeIndex: 2075 entries, 0 to 2074\n",
      "Data columns (total 12 columns):\n",
      "tweet_id    2075 non-null int64\n",
      "jpg_url     2075 non-null object\n",
      "img_num     2075 non-null int64\n",
      "p1          2075 non-null object\n",
      "p1_conf     2075 non-null float64\n",
      "p1_dog      2075 non-null bool\n",
      "p2          2075 non-null object\n",
      "p2_conf     2075 non-null float64\n",
      "p2_dog      2075 non-null bool\n",
      "p3          2075 non-null object\n",
      "p3_conf     2075 non-null float64\n",
      "p3_dog      2075 non-null bool\n",
      "dtypes: bool(3), float64(3), int64(2), object(4)\n",
      "memory usage: 152.1+ KB\n"
     ]
    }
   ],
   "source": [
    "image_pred.info()"
   ]
  },
  {
   "cell_type": "code",
   "execution_count": 21,
   "metadata": {},
   "outputs": [
    {
     "data": {
      "text/html": [
       "<div>\n",
       "<style scoped>\n",
       "    .dataframe tbody tr th:only-of-type {\n",
       "        vertical-align: middle;\n",
       "    }\n",
       "\n",
       "    .dataframe tbody tr th {\n",
       "        vertical-align: top;\n",
       "    }\n",
       "\n",
       "    .dataframe thead th {\n",
       "        text-align: right;\n",
       "    }\n",
       "</style>\n",
       "<table border=\"1\" class=\"dataframe\">\n",
       "  <thead>\n",
       "    <tr style=\"text-align: right;\">\n",
       "      <th></th>\n",
       "      <th>tweet_id</th>\n",
       "      <th>img_num</th>\n",
       "      <th>p1_conf</th>\n",
       "      <th>p2_conf</th>\n",
       "      <th>p3_conf</th>\n",
       "    </tr>\n",
       "  </thead>\n",
       "  <tbody>\n",
       "    <tr>\n",
       "      <th>count</th>\n",
       "      <td>2.075000e+03</td>\n",
       "      <td>2075.000000</td>\n",
       "      <td>2075.000000</td>\n",
       "      <td>2.075000e+03</td>\n",
       "      <td>2.075000e+03</td>\n",
       "    </tr>\n",
       "    <tr>\n",
       "      <th>mean</th>\n",
       "      <td>7.384514e+17</td>\n",
       "      <td>1.203855</td>\n",
       "      <td>0.594548</td>\n",
       "      <td>1.345886e-01</td>\n",
       "      <td>6.032417e-02</td>\n",
       "    </tr>\n",
       "    <tr>\n",
       "      <th>std</th>\n",
       "      <td>6.785203e+16</td>\n",
       "      <td>0.561875</td>\n",
       "      <td>0.271174</td>\n",
       "      <td>1.006657e-01</td>\n",
       "      <td>5.090593e-02</td>\n",
       "    </tr>\n",
       "    <tr>\n",
       "      <th>min</th>\n",
       "      <td>6.660209e+17</td>\n",
       "      <td>1.000000</td>\n",
       "      <td>0.044333</td>\n",
       "      <td>1.011300e-08</td>\n",
       "      <td>1.740170e-10</td>\n",
       "    </tr>\n",
       "    <tr>\n",
       "      <th>25%</th>\n",
       "      <td>6.764835e+17</td>\n",
       "      <td>1.000000</td>\n",
       "      <td>0.364412</td>\n",
       "      <td>5.388625e-02</td>\n",
       "      <td>1.622240e-02</td>\n",
       "    </tr>\n",
       "    <tr>\n",
       "      <th>50%</th>\n",
       "      <td>7.119988e+17</td>\n",
       "      <td>1.000000</td>\n",
       "      <td>0.588230</td>\n",
       "      <td>1.181810e-01</td>\n",
       "      <td>4.944380e-02</td>\n",
       "    </tr>\n",
       "    <tr>\n",
       "      <th>75%</th>\n",
       "      <td>7.932034e+17</td>\n",
       "      <td>1.000000</td>\n",
       "      <td>0.843855</td>\n",
       "      <td>1.955655e-01</td>\n",
       "      <td>9.180755e-02</td>\n",
       "    </tr>\n",
       "    <tr>\n",
       "      <th>max</th>\n",
       "      <td>8.924206e+17</td>\n",
       "      <td>4.000000</td>\n",
       "      <td>1.000000</td>\n",
       "      <td>4.880140e-01</td>\n",
       "      <td>2.734190e-01</td>\n",
       "    </tr>\n",
       "  </tbody>\n",
       "</table>\n",
       "</div>"
      ],
      "text/plain": [
       "           tweet_id      img_num      p1_conf       p2_conf       p3_conf\n",
       "count  2.075000e+03  2075.000000  2075.000000  2.075000e+03  2.075000e+03\n",
       "mean   7.384514e+17     1.203855     0.594548  1.345886e-01  6.032417e-02\n",
       "std    6.785203e+16     0.561875     0.271174  1.006657e-01  5.090593e-02\n",
       "min    6.660209e+17     1.000000     0.044333  1.011300e-08  1.740170e-10\n",
       "25%    6.764835e+17     1.000000     0.364412  5.388625e-02  1.622240e-02\n",
       "50%    7.119988e+17     1.000000     0.588230  1.181810e-01  4.944380e-02\n",
       "75%    7.932034e+17     1.000000     0.843855  1.955655e-01  9.180755e-02\n",
       "max    8.924206e+17     4.000000     1.000000  4.880140e-01  2.734190e-01"
      ]
     },
     "execution_count": 21,
     "metadata": {},
     "output_type": "execute_result"
    }
   ],
   "source": [
    "image_pred.describe()"
   ]
  },
  {
   "cell_type": "code",
   "execution_count": 22,
   "metadata": {},
   "outputs": [
    {
     "data": {
      "text/plain": [
       "golden_retriever             150\n",
       "Labrador_retriever           100\n",
       "Pembroke                      89\n",
       "Chihuahua                     83\n",
       "pug                           57\n",
       "chow                          44\n",
       "Samoyed                       43\n",
       "toy_poodle                    39\n",
       "Pomeranian                    38\n",
       "cocker_spaniel                30\n",
       "malamute                      30\n",
       "French_bulldog                26\n",
       "miniature_pinscher            23\n",
       "Chesapeake_Bay_retriever      23\n",
       "seat_belt                     22\n",
       "German_shepherd               20\n",
       "Siberian_husky                20\n",
       "Staffordshire_bullterrier     20\n",
       "web_site                      19\n",
       "Cardigan                      19\n",
       "teddy                         18\n",
       "Maltese_dog                   18\n",
       "beagle                        18\n",
       "Shetland_sheepdog             18\n",
       "Eskimo_dog                    18\n",
       "Lakeland_terrier              17\n",
       "Shih-Tzu                      17\n",
       "Rottweiler                    17\n",
       "Italian_greyhound             16\n",
       "kuvasz                        16\n",
       "                            ... \n",
       "three-toed_sloth               1\n",
       "limousine                      1\n",
       "book_jacket                    1\n",
       "long-horned_beetle             1\n",
       "school_bus                     1\n",
       "guenon                         1\n",
       "pitcher                        1\n",
       "trombone                       1\n",
       "coral_reef                     1\n",
       "harp                           1\n",
       "lacewing                       1\n",
       "wooden_spoon                   1\n",
       "scorpion                       1\n",
       "sunglasses                     1\n",
       "radio_telescope                1\n",
       "clumber                        1\n",
       "convertible                    1\n",
       "soccer_ball                    1\n",
       "picket_fence                   1\n",
       "cheetah                        1\n",
       "pencil_box                     1\n",
       "canoe                          1\n",
       "pedestal                       1\n",
       "mailbox                        1\n",
       "binoculars                     1\n",
       "robin                          1\n",
       "padlock                        1\n",
       "electric_fan                   1\n",
       "bison                          1\n",
       "orange                         1\n",
       "Name: p1, Length: 378, dtype: int64"
      ]
     },
     "execution_count": 22,
     "metadata": {},
     "output_type": "execute_result"
    }
   ],
   "source": [
    "image_pred.p1.value_counts()"
   ]
  },
  {
   "cell_type": "code",
   "execution_count": 23,
   "metadata": {},
   "outputs": [
    {
     "data": {
      "text/plain": [
       "0"
      ]
     },
     "execution_count": 23,
     "metadata": {},
     "output_type": "execute_result"
    }
   ],
   "source": [
    "image_pred.tweet_id.duplicated().sum()"
   ]
  },
  {
   "cell_type": "code",
   "execution_count": 24,
   "metadata": {
    "scrolled": true
   },
   "outputs": [
    {
     "data": {
      "text/html": [
       "<div>\n",
       "<style scoped>\n",
       "    .dataframe tbody tr th:only-of-type {\n",
       "        vertical-align: middle;\n",
       "    }\n",
       "\n",
       "    .dataframe tbody tr th {\n",
       "        vertical-align: top;\n",
       "    }\n",
       "\n",
       "    .dataframe thead th {\n",
       "        text-align: right;\n",
       "    }\n",
       "</style>\n",
       "<table border=\"1\" class=\"dataframe\">\n",
       "  <thead>\n",
       "    <tr style=\"text-align: right;\">\n",
       "      <th></th>\n",
       "      <th>contributors</th>\n",
       "      <th>coordinates</th>\n",
       "      <th>created_at</th>\n",
       "      <th>display_text_range</th>\n",
       "      <th>entities</th>\n",
       "      <th>extended_entities</th>\n",
       "      <th>favorite_count</th>\n",
       "      <th>favorited</th>\n",
       "      <th>full_text</th>\n",
       "      <th>geo</th>\n",
       "      <th>...</th>\n",
       "      <th>quoted_status</th>\n",
       "      <th>quoted_status_id</th>\n",
       "      <th>quoted_status_id_str</th>\n",
       "      <th>quoted_status_permalink</th>\n",
       "      <th>retweet_count</th>\n",
       "      <th>retweeted</th>\n",
       "      <th>retweeted_status</th>\n",
       "      <th>source</th>\n",
       "      <th>truncated</th>\n",
       "      <th>user</th>\n",
       "    </tr>\n",
       "  </thead>\n",
       "  <tbody>\n",
       "    <tr>\n",
       "      <th>2326</th>\n",
       "      <td>NaN</td>\n",
       "      <td>NaN</td>\n",
       "      <td>2015-11-16 00:24:50</td>\n",
       "      <td>[0, 120]</td>\n",
       "      <td>{'hashtags': [], 'symbols': [], 'user_mentions...</td>\n",
       "      <td>{'media': [{'id': 666049244999131136, 'id_str'...</td>\n",
       "      <td>99</td>\n",
       "      <td>False</td>\n",
       "      <td>Here we have a 1949 1st generation vulpix. Enj...</td>\n",
       "      <td>NaN</td>\n",
       "      <td>...</td>\n",
       "      <td>NaN</td>\n",
       "      <td>NaN</td>\n",
       "      <td>NaN</td>\n",
       "      <td>NaN</td>\n",
       "      <td>41</td>\n",
       "      <td>False</td>\n",
       "      <td>NaN</td>\n",
       "      <td>&lt;a href=\"http://twitter.com/download/iphone\" r...</td>\n",
       "      <td>False</td>\n",
       "      <td>{'id': 4196983835, 'id_str': '4196983835', 'na...</td>\n",
       "    </tr>\n",
       "    <tr>\n",
       "      <th>2327</th>\n",
       "      <td>NaN</td>\n",
       "      <td>NaN</td>\n",
       "      <td>2015-11-16 00:04:52</td>\n",
       "      <td>[0, 137]</td>\n",
       "      <td>{'hashtags': [], 'symbols': [], 'user_mentions...</td>\n",
       "      <td>{'media': [{'id': 666044217047650304, 'id_str'...</td>\n",
       "      <td>274</td>\n",
       "      <td>False</td>\n",
       "      <td>This is a purebred Piers Morgan. Loves to Netf...</td>\n",
       "      <td>NaN</td>\n",
       "      <td>...</td>\n",
       "      <td>NaN</td>\n",
       "      <td>NaN</td>\n",
       "      <td>NaN</td>\n",
       "      <td>NaN</td>\n",
       "      <td>133</td>\n",
       "      <td>False</td>\n",
       "      <td>NaN</td>\n",
       "      <td>&lt;a href=\"http://twitter.com/download/iphone\" r...</td>\n",
       "      <td>False</td>\n",
       "      <td>{'id': 4196983835, 'id_str': '4196983835', 'na...</td>\n",
       "    </tr>\n",
       "    <tr>\n",
       "      <th>2328</th>\n",
       "      <td>NaN</td>\n",
       "      <td>NaN</td>\n",
       "      <td>2015-11-15 23:21:54</td>\n",
       "      <td>[0, 130]</td>\n",
       "      <td>{'hashtags': [], 'symbols': [], 'user_mentions...</td>\n",
       "      <td>{'media': [{'id': 666033409081393153, 'id_str'...</td>\n",
       "      <td>114</td>\n",
       "      <td>False</td>\n",
       "      <td>Here is a very happy pup. Big fan of well-main...</td>\n",
       "      <td>NaN</td>\n",
       "      <td>...</td>\n",
       "      <td>NaN</td>\n",
       "      <td>NaN</td>\n",
       "      <td>NaN</td>\n",
       "      <td>NaN</td>\n",
       "      <td>41</td>\n",
       "      <td>False</td>\n",
       "      <td>NaN</td>\n",
       "      <td>&lt;a href=\"http://twitter.com/download/iphone\" r...</td>\n",
       "      <td>False</td>\n",
       "      <td>{'id': 4196983835, 'id_str': '4196983835', 'na...</td>\n",
       "    </tr>\n",
       "    <tr>\n",
       "      <th>2329</th>\n",
       "      <td>NaN</td>\n",
       "      <td>NaN</td>\n",
       "      <td>2015-11-15 23:05:30</td>\n",
       "      <td>[0, 139]</td>\n",
       "      <td>{'hashtags': [], 'symbols': [], 'user_mentions...</td>\n",
       "      <td>{'media': [{'id': 666029276303482880, 'id_str'...</td>\n",
       "      <td>121</td>\n",
       "      <td>False</td>\n",
       "      <td>This is a western brown Mitsubishi terrier. Up...</td>\n",
       "      <td>NaN</td>\n",
       "      <td>...</td>\n",
       "      <td>NaN</td>\n",
       "      <td>NaN</td>\n",
       "      <td>NaN</td>\n",
       "      <td>NaN</td>\n",
       "      <td>43</td>\n",
       "      <td>False</td>\n",
       "      <td>NaN</td>\n",
       "      <td>&lt;a href=\"http://twitter.com/download/iphone\" r...</td>\n",
       "      <td>False</td>\n",
       "      <td>{'id': 4196983835, 'id_str': '4196983835', 'na...</td>\n",
       "    </tr>\n",
       "    <tr>\n",
       "      <th>2330</th>\n",
       "      <td>NaN</td>\n",
       "      <td>NaN</td>\n",
       "      <td>2015-11-15 22:32:08</td>\n",
       "      <td>[0, 131]</td>\n",
       "      <td>{'hashtags': [], 'symbols': [], 'user_mentions...</td>\n",
       "      <td>{'media': [{'id': 666020881337073664, 'id_str'...</td>\n",
       "      <td>2446</td>\n",
       "      <td>False</td>\n",
       "      <td>Here we have a Japanese Irish Setter. Lost eye...</td>\n",
       "      <td>NaN</td>\n",
       "      <td>...</td>\n",
       "      <td>NaN</td>\n",
       "      <td>NaN</td>\n",
       "      <td>NaN</td>\n",
       "      <td>NaN</td>\n",
       "      <td>469</td>\n",
       "      <td>False</td>\n",
       "      <td>NaN</td>\n",
       "      <td>&lt;a href=\"http://twitter.com/download/iphone\" r...</td>\n",
       "      <td>False</td>\n",
       "      <td>{'id': 4196983835, 'id_str': '4196983835', 'na...</td>\n",
       "    </tr>\n",
       "  </tbody>\n",
       "</table>\n",
       "<p>5 rows × 32 columns</p>\n",
       "</div>"
      ],
      "text/plain": [
       "      contributors  coordinates          created_at display_text_range  \\\n",
       "2326           NaN          NaN 2015-11-16 00:24:50           [0, 120]   \n",
       "2327           NaN          NaN 2015-11-16 00:04:52           [0, 137]   \n",
       "2328           NaN          NaN 2015-11-15 23:21:54           [0, 130]   \n",
       "2329           NaN          NaN 2015-11-15 23:05:30           [0, 139]   \n",
       "2330           NaN          NaN 2015-11-15 22:32:08           [0, 131]   \n",
       "\n",
       "                                               entities  \\\n",
       "2326  {'hashtags': [], 'symbols': [], 'user_mentions...   \n",
       "2327  {'hashtags': [], 'symbols': [], 'user_mentions...   \n",
       "2328  {'hashtags': [], 'symbols': [], 'user_mentions...   \n",
       "2329  {'hashtags': [], 'symbols': [], 'user_mentions...   \n",
       "2330  {'hashtags': [], 'symbols': [], 'user_mentions...   \n",
       "\n",
       "                                      extended_entities  favorite_count  \\\n",
       "2326  {'media': [{'id': 666049244999131136, 'id_str'...              99   \n",
       "2327  {'media': [{'id': 666044217047650304, 'id_str'...             274   \n",
       "2328  {'media': [{'id': 666033409081393153, 'id_str'...             114   \n",
       "2329  {'media': [{'id': 666029276303482880, 'id_str'...             121   \n",
       "2330  {'media': [{'id': 666020881337073664, 'id_str'...            2446   \n",
       "\n",
       "      favorited                                          full_text  geo  \\\n",
       "2326      False  Here we have a 1949 1st generation vulpix. Enj...  NaN   \n",
       "2327      False  This is a purebred Piers Morgan. Loves to Netf...  NaN   \n",
       "2328      False  Here is a very happy pup. Big fan of well-main...  NaN   \n",
       "2329      False  This is a western brown Mitsubishi terrier. Up...  NaN   \n",
       "2330      False  Here we have a Japanese Irish Setter. Lost eye...  NaN   \n",
       "\n",
       "                            ...                          quoted_status  \\\n",
       "2326                        ...                                    NaN   \n",
       "2327                        ...                                    NaN   \n",
       "2328                        ...                                    NaN   \n",
       "2329                        ...                                    NaN   \n",
       "2330                        ...                                    NaN   \n",
       "\n",
       "      quoted_status_id quoted_status_id_str  quoted_status_permalink  \\\n",
       "2326               NaN                  NaN                      NaN   \n",
       "2327               NaN                  NaN                      NaN   \n",
       "2328               NaN                  NaN                      NaN   \n",
       "2329               NaN                  NaN                      NaN   \n",
       "2330               NaN                  NaN                      NaN   \n",
       "\n",
       "      retweet_count  retweeted  retweeted_status  \\\n",
       "2326             41      False               NaN   \n",
       "2327            133      False               NaN   \n",
       "2328             41      False               NaN   \n",
       "2329             43      False               NaN   \n",
       "2330            469      False               NaN   \n",
       "\n",
       "                                                 source truncated  \\\n",
       "2326  <a href=\"http://twitter.com/download/iphone\" r...     False   \n",
       "2327  <a href=\"http://twitter.com/download/iphone\" r...     False   \n",
       "2328  <a href=\"http://twitter.com/download/iphone\" r...     False   \n",
       "2329  <a href=\"http://twitter.com/download/iphone\" r...     False   \n",
       "2330  <a href=\"http://twitter.com/download/iphone\" r...     False   \n",
       "\n",
       "                                                   user  \n",
       "2326  {'id': 4196983835, 'id_str': '4196983835', 'na...  \n",
       "2327  {'id': 4196983835, 'id_str': '4196983835', 'na...  \n",
       "2328  {'id': 4196983835, 'id_str': '4196983835', 'na...  \n",
       "2329  {'id': 4196983835, 'id_str': '4196983835', 'na...  \n",
       "2330  {'id': 4196983835, 'id_str': '4196983835', 'na...  \n",
       "\n",
       "[5 rows x 32 columns]"
      ]
     },
     "execution_count": 24,
     "metadata": {},
     "output_type": "execute_result"
    }
   ],
   "source": [
    "extra.tail()"
   ]
  },
  {
   "cell_type": "code",
   "execution_count": 25,
   "metadata": {},
   "outputs": [
    {
     "name": "stdout",
     "output_type": "stream",
     "text": [
      "<class 'pandas.core.frame.DataFrame'>\n",
      "RangeIndex: 2331 entries, 0 to 2330\n",
      "Data columns (total 32 columns):\n",
      "contributors                     0 non-null float64\n",
      "coordinates                      0 non-null float64\n",
      "created_at                       2331 non-null datetime64[ns]\n",
      "display_text_range               2331 non-null object\n",
      "entities                         2331 non-null object\n",
      "extended_entities                2059 non-null object\n",
      "favorite_count                   2331 non-null int64\n",
      "favorited                        2331 non-null bool\n",
      "full_text                        2331 non-null object\n",
      "geo                              0 non-null float64\n",
      "id                               2331 non-null int64\n",
      "id_str                           2331 non-null int64\n",
      "in_reply_to_screen_name          77 non-null object\n",
      "in_reply_to_status_id            77 non-null float64\n",
      "in_reply_to_status_id_str        77 non-null float64\n",
      "in_reply_to_user_id              77 non-null float64\n",
      "in_reply_to_user_id_str          77 non-null float64\n",
      "is_quote_status                  2331 non-null bool\n",
      "lang                             2331 non-null object\n",
      "place                            1 non-null object\n",
      "possibly_sensitive               2197 non-null float64\n",
      "possibly_sensitive_appealable    2197 non-null float64\n",
      "quoted_status                    24 non-null object\n",
      "quoted_status_id                 26 non-null float64\n",
      "quoted_status_id_str             26 non-null float64\n",
      "quoted_status_permalink          26 non-null object\n",
      "retweet_count                    2331 non-null int64\n",
      "retweeted                        2331 non-null bool\n",
      "retweeted_status                 163 non-null object\n",
      "source                           2331 non-null object\n",
      "truncated                        2331 non-null bool\n",
      "user                             2331 non-null object\n",
      "dtypes: bool(4), datetime64[ns](1), float64(11), int64(4), object(12)\n",
      "memory usage: 519.1+ KB\n"
     ]
    }
   ],
   "source": [
    "extra.info()"
   ]
  },
  {
   "cell_type": "code",
   "execution_count": 26,
   "metadata": {},
   "outputs": [
    {
     "data": {
      "text/plain": [
       "contributors                            float64\n",
       "coordinates                             float64\n",
       "created_at                       datetime64[ns]\n",
       "display_text_range                       object\n",
       "entities                                 object\n",
       "extended_entities                        object\n",
       "favorite_count                            int64\n",
       "favorited                                  bool\n",
       "full_text                                object\n",
       "geo                                     float64\n",
       "id                                        int64\n",
       "id_str                                    int64\n",
       "in_reply_to_screen_name                  object\n",
       "in_reply_to_status_id                   float64\n",
       "in_reply_to_status_id_str               float64\n",
       "in_reply_to_user_id                     float64\n",
       "in_reply_to_user_id_str                 float64\n",
       "is_quote_status                            bool\n",
       "lang                                     object\n",
       "place                                    object\n",
       "possibly_sensitive                      float64\n",
       "possibly_sensitive_appealable           float64\n",
       "quoted_status                            object\n",
       "quoted_status_id                        float64\n",
       "quoted_status_id_str                    float64\n",
       "quoted_status_permalink                  object\n",
       "retweet_count                             int64\n",
       "retweeted                                  bool\n",
       "retweeted_status                         object\n",
       "source                                   object\n",
       "truncated                                  bool\n",
       "user                                     object\n",
       "dtype: object"
      ]
     },
     "execution_count": 26,
     "metadata": {},
     "output_type": "execute_result"
    }
   ],
   "source": [
    "extra.dtypes"
   ]
  },
  {
   "cell_type": "code",
   "execution_count": 27,
   "metadata": {},
   "outputs": [
    {
     "data": {
      "text/plain": [
       "0"
      ]
     },
     "execution_count": 27,
     "metadata": {},
     "output_type": "execute_result"
    }
   ],
   "source": [
    "extra.id.duplicated().sum()"
   ]
  },
  {
   "cell_type": "markdown",
   "metadata": {},
   "source": [
    "### Quality issues\n",
    "\n",
    "**Data table**\n",
    "- 181 no original tweets (retweets) in table **check**\n",
    "- tweet_id should be a string, not an int. The same for other id columns. **check**\n",
    "- timestamp should be a datetime and not an object. The same for retweeted_status_timestamp. **check**\n",
    "- innacurate rating_denominator values for 23 tweets. **check**\n",
    "- rating_numerator has some really big numbers but there are no limit for the rating, needs further analysis.\n",
    "- a lot of entries doesn't have a dog stage assigned. None used insteed of NaN. **check**\n",
    "- wrong name assigments: a, an, the. None used insteed of NaN. **check**\n",
    "\n",
    "**Image_pred table**\n",
    "- no all the tweets in the data table have a image prediction. **check**\n",
    "- tweet_id should be a string, not an int. **check**\n",
    "- predictions that are not dogs: seat belt, web site, flamingo, minibus, fountain, limousine, among others. **check**\n",
    "- inconsistency on the cases (lowercase, uppercase) in the predictions. **check**\n",
    "\n",
    "**Extra table**\n",
    "- tweet_id should be a string, not an int. **check**\n",
    "- no all the tweets in the data table is in this table. **check**\n",
    "\n",
    "### Tidiness issues\n",
    "- The doggo, floofer, pupper, puppo columns should be only one column. **check**\n",
    "- There should be two tables: one for the tweet values and other for the dog features. **check**\n",
    "- Since the extra table has all the data from the tweet there are a lot of repeated information. **check**"
   ]
  },
  {
   "cell_type": "markdown",
   "metadata": {},
   "source": [
    "## Cleaning data"
   ]
  },
  {
   "cell_type": "code",
   "execution_count": 45,
   "metadata": {},
   "outputs": [],
   "source": [
    "data_clean = data.copy()\n",
    "image_pred_clean = image_pred.copy()\n",
    "extra_clean = extra.copy()"
   ]
  },
  {
   "cell_type": "markdown",
   "metadata": {},
   "source": [
    "### Missing data\n",
    "\n",
    "**Tweets from the data table with no information on the image_pred and extra tables**\n",
    "\n",
    "**Define:**\n",
    "We should keep only the tweets that have information in both tables. In order to do this in the most efficient way first we need to adress an other problem: the 181 retweets in the data table. We will remove this retweets and then proceed to leave only the records from the data table that have an image record. In order to do this, we inner merge this tables. Then we do the same with this new table and the extra table. We will end with one table with only the records that are in the three tables."
   ]
  },
  {
   "cell_type": "markdown",
   "metadata": {},
   "source": [
    "**Code:**"
   ]
  },
  {
   "cell_type": "code",
   "execution_count": 46,
   "metadata": {},
   "outputs": [
    {
     "name": "stdout",
     "output_type": "stream",
     "text": [
      "<class 'pandas.core.frame.DataFrame'>\n",
      "Int64Index: 2175 entries, 0 to 2355\n",
      "Data columns (total 17 columns):\n",
      "tweet_id                      2175 non-null int64\n",
      "in_reply_to_status_id         78 non-null float64\n",
      "in_reply_to_user_id           78 non-null float64\n",
      "timestamp                     2175 non-null object\n",
      "source                        2175 non-null object\n",
      "text                          2175 non-null object\n",
      "retweeted_status_id           0 non-null float64\n",
      "retweeted_status_user_id      0 non-null float64\n",
      "retweeted_status_timestamp    0 non-null object\n",
      "expanded_urls                 2117 non-null object\n",
      "rating_numerator              2175 non-null int64\n",
      "rating_denominator            2175 non-null int64\n",
      "name                          2175 non-null object\n",
      "doggo                         2175 non-null object\n",
      "floofer                       2175 non-null object\n",
      "pupper                        2175 non-null object\n",
      "puppo                         2175 non-null object\n",
      "dtypes: float64(4), int64(3), object(10)\n",
      "memory usage: 305.9+ KB\n"
     ]
    }
   ],
   "source": [
    "data_clean = data_clean[data_clean.retweeted_status_id.isnull()]\n",
    "data_clean.info()"
   ]
  },
  {
   "cell_type": "code",
   "execution_count": 47,
   "metadata": {},
   "outputs": [],
   "source": [
    "# the retweeted columns don't have any information. We will drop them.\n",
    "data_clean.drop(['retweeted_status_id','retweeted_status_user_id','retweeted_status_timestamp'], axis=1, inplace=True)"
   ]
  },
  {
   "cell_type": "code",
   "execution_count": 48,
   "metadata": {},
   "outputs": [],
   "source": [
    "data_clean = data_clean.merge(image_pred_clean, how='inner',on='tweet_id')"
   ]
  },
  {
   "cell_type": "code",
   "execution_count": 49,
   "metadata": {},
   "outputs": [],
   "source": [
    "data_clean = data_clean.merge(extra_clean, how='inner',left_on='tweet_id',right_on='id')"
   ]
  },
  {
   "cell_type": "markdown",
   "metadata": {},
   "source": [
    "**Test:**"
   ]
  },
  {
   "cell_type": "code",
   "execution_count": 19,
   "metadata": {},
   "outputs": [
    {
     "name": "stdout",
     "output_type": "stream",
     "text": [
      "<class 'pandas.core.frame.DataFrame'>\n",
      "Int64Index: 1987 entries, 0 to 1986\n",
      "Data columns (total 57 columns):\n",
      "tweet_id                         1987 non-null int64\n",
      "in_reply_to_status_id_x          23 non-null float64\n",
      "in_reply_to_user_id_x            23 non-null float64\n",
      "timestamp                        1987 non-null object\n",
      "source_x                         1987 non-null object\n",
      "text                             1987 non-null object\n",
      "expanded_urls                    1987 non-null object\n",
      "rating_numerator                 1987 non-null int64\n",
      "rating_denominator               1987 non-null int64\n",
      "name                             1987 non-null object\n",
      "doggo                            1987 non-null object\n",
      "floofer                          1987 non-null object\n",
      "pupper                           1987 non-null object\n",
      "puppo                            1987 non-null object\n",
      "jpg_url                          1987 non-null object\n",
      "img_num                          1987 non-null int64\n",
      "p1                               1987 non-null object\n",
      "p1_conf                          1987 non-null float64\n",
      "p1_dog                           1987 non-null bool\n",
      "p2                               1987 non-null object\n",
      "p2_conf                          1987 non-null float64\n",
      "p2_dog                           1987 non-null bool\n",
      "p3                               1987 non-null object\n",
      "p3_conf                          1987 non-null float64\n",
      "p3_dog                           1987 non-null bool\n",
      "contributors                     0 non-null float64\n",
      "coordinates                      0 non-null float64\n",
      "created_at                       1987 non-null datetime64[ns]\n",
      "display_text_range               1987 non-null object\n",
      "entities                         1987 non-null object\n",
      "extended_entities                1987 non-null object\n",
      "favorite_count                   1987 non-null int64\n",
      "favorited                        1987 non-null bool\n",
      "full_text                        1987 non-null object\n",
      "geo                              0 non-null float64\n",
      "id                               1987 non-null int64\n",
      "id_str                           1987 non-null int64\n",
      "in_reply_to_screen_name          23 non-null object\n",
      "in_reply_to_status_id_y          23 non-null float64\n",
      "in_reply_to_status_id_str        23 non-null float64\n",
      "in_reply_to_user_id_y            23 non-null float64\n",
      "in_reply_to_user_id_str          23 non-null float64\n",
      "is_quote_status                  1987 non-null bool\n",
      "lang                             1987 non-null object\n",
      "place                            1 non-null object\n",
      "possibly_sensitive               1987 non-null float64\n",
      "possibly_sensitive_appealable    1987 non-null float64\n",
      "quoted_status                    0 non-null object\n",
      "quoted_status_id                 0 non-null float64\n",
      "quoted_status_id_str             0 non-null float64\n",
      "quoted_status_permalink          0 non-null object\n",
      "retweet_count                    1987 non-null int64\n",
      "retweeted                        1987 non-null bool\n",
      "retweeted_status                 0 non-null object\n",
      "source_y                         1987 non-null object\n",
      "truncated                        1987 non-null bool\n",
      "user                             1987 non-null object\n",
      "dtypes: bool(7), datetime64[ns](1), float64(16), int64(8), object(25)\n",
      "memory usage: 805.3+ KB\n"
     ]
    }
   ],
   "source": [
    "data_clean.info()"
   ]
  },
  {
   "cell_type": "markdown",
   "metadata": {},
   "source": [
    "### Tidiness\n",
    "\n",
    "**The doggo, floofer, pupper, puppo columns should be only one column.**\n",
    "\n",
    "**Define:**\n",
    "We should have only one column named dog state. In order to adress this problem, firts we need to convert all the None string to NaN. We have to adress an other issue: there are a lot of entries without an assigned dog state. According to the dogtionary, floof is a good state for any dog, so we will fill the unknown values with this state. Then we use the melt method to combine the four columns into two. This two columns have the same information so we can delete one. Then we drop the entries were dod state is empty. "
   ]
  },
  {
   "cell_type": "markdown",
   "metadata": {},
   "source": [
    "**Code:**"
   ]
  },
  {
   "cell_type": "code",
   "execution_count": 50,
   "metadata": {},
   "outputs": [],
   "source": [
    "data_clean['doggo'].replace('None', np.nan, inplace=True)"
   ]
  },
  {
   "cell_type": "code",
   "execution_count": 51,
   "metadata": {},
   "outputs": [],
   "source": [
    "data_clean['floofer'].replace('None', np.nan, inplace=True)"
   ]
  },
  {
   "cell_type": "code",
   "execution_count": 52,
   "metadata": {},
   "outputs": [],
   "source": [
    "data_clean['pupper'].replace('None', np.nan, inplace=True)"
   ]
  },
  {
   "cell_type": "code",
   "execution_count": 53,
   "metadata": {},
   "outputs": [],
   "source": [
    "data_clean['puppo'].replace('None', np.nan, inplace=True)"
   ]
  },
  {
   "cell_type": "code",
   "execution_count": 56,
   "metadata": {},
   "outputs": [],
   "source": [
    "mask = data_clean.puppo.isnull() & data_clean.pupper.isnull() & data_clean.floofer.isnull() & data_clean.doggo.isnull()\n",
    "data_clean.loc[mask,'floofer'] = 'floofer'"
   ]
  },
  {
   "cell_type": "code",
   "execution_count": 58,
   "metadata": {},
   "outputs": [],
   "source": [
    "melt = ['doggo', 'floofer', 'pupper', 'puppo']\n",
    "no_melt = [x for x in data_clean.columns.tolist() if x not in melt]\n",
    "data_clean = pd.melt(data_clean, id_vars = no_melt, value_vars = melt, \n",
    "                         var_name = 'var', value_name = 'dog_stage')"
   ]
  },
  {
   "cell_type": "code",
   "execution_count": 62,
   "metadata": {},
   "outputs": [],
   "source": [
    "data_clean.drop(['var'],axis=1, inplace=True)"
   ]
  },
  {
   "cell_type": "code",
   "execution_count": 65,
   "metadata": {},
   "outputs": [],
   "source": [
    "data_clean.dropna(subset=['dog_stage'], inplace=True)"
   ]
  },
  {
   "cell_type": "markdown",
   "metadata": {},
   "source": [
    "**Test:**"
   ]
  },
  {
   "cell_type": "code",
   "execution_count": 94,
   "metadata": {},
   "outputs": [
    {
     "data": {
      "text/html": [
       "<div>\n",
       "<style scoped>\n",
       "    .dataframe tbody tr th:only-of-type {\n",
       "        vertical-align: middle;\n",
       "    }\n",
       "\n",
       "    .dataframe tbody tr th {\n",
       "        vertical-align: top;\n",
       "    }\n",
       "\n",
       "    .dataframe thead th {\n",
       "        text-align: right;\n",
       "    }\n",
       "</style>\n",
       "<table border=\"1\" class=\"dataframe\">\n",
       "  <thead>\n",
       "    <tr style=\"text-align: right;\">\n",
       "      <th></th>\n",
       "      <th>tweet_id</th>\n",
       "      <th>in_reply_to_status_id_x</th>\n",
       "      <th>in_reply_to_user_id_x</th>\n",
       "      <th>timestamp</th>\n",
       "      <th>source_x</th>\n",
       "      <th>text</th>\n",
       "      <th>expanded_urls</th>\n",
       "      <th>rating_numerator</th>\n",
       "      <th>rating_denominator</th>\n",
       "      <th>name</th>\n",
       "      <th>...</th>\n",
       "      <th>quoted_status_id</th>\n",
       "      <th>quoted_status_id_str</th>\n",
       "      <th>quoted_status_permalink</th>\n",
       "      <th>retweet_count</th>\n",
       "      <th>retweeted</th>\n",
       "      <th>retweeted_status</th>\n",
       "      <th>source_y</th>\n",
       "      <th>truncated</th>\n",
       "      <th>user</th>\n",
       "      <th>dog_stage</th>\n",
       "    </tr>\n",
       "  </thead>\n",
       "  <tbody>\n",
       "    <tr>\n",
       "      <th>9</th>\n",
       "      <td>890240255349198849</td>\n",
       "      <td>NaN</td>\n",
       "      <td>NaN</td>\n",
       "      <td>2017-07-26 15:59:51 +0000</td>\n",
       "      <td>&lt;a href=\"http://twitter.com/download/iphone\" r...</td>\n",
       "      <td>This is Cassie. She is a college pup. Studying...</td>\n",
       "      <td>https://twitter.com/dog_rates/status/890240255...</td>\n",
       "      <td>14</td>\n",
       "      <td>10</td>\n",
       "      <td>Cassie</td>\n",
       "      <td>...</td>\n",
       "      <td>NaN</td>\n",
       "      <td>NaN</td>\n",
       "      <td>NaN</td>\n",
       "      <td>6779</td>\n",
       "      <td>False</td>\n",
       "      <td>NaN</td>\n",
       "      <td>&lt;a href=\"http://twitter.com/download/iphone\" r...</td>\n",
       "      <td>False</td>\n",
       "      <td>{'id': 4196983835, 'id_str': '4196983835', 'na...</td>\n",
       "      <td>doggo</td>\n",
       "    </tr>\n",
       "    <tr>\n",
       "      <th>37</th>\n",
       "      <td>884162670584377345</td>\n",
       "      <td>NaN</td>\n",
       "      <td>NaN</td>\n",
       "      <td>2017-07-09 21:29:42 +0000</td>\n",
       "      <td>&lt;a href=\"http://twitter.com/download/iphone\" r...</td>\n",
       "      <td>Meet Yogi. He doesn't have any important dog m...</td>\n",
       "      <td>https://twitter.com/dog_rates/status/884162670...</td>\n",
       "      <td>12</td>\n",
       "      <td>10</td>\n",
       "      <td>Yogi</td>\n",
       "      <td>...</td>\n",
       "      <td>NaN</td>\n",
       "      <td>NaN</td>\n",
       "      <td>NaN</td>\n",
       "      <td>2761</td>\n",
       "      <td>False</td>\n",
       "      <td>NaN</td>\n",
       "      <td>&lt;a href=\"http://twitter.com/download/iphone\" r...</td>\n",
       "      <td>False</td>\n",
       "      <td>{'id': 4196983835, 'id_str': '4196983835', 'na...</td>\n",
       "      <td>doggo</td>\n",
       "    </tr>\n",
       "    <tr>\n",
       "      <th>81</th>\n",
       "      <td>872967104147763200</td>\n",
       "      <td>NaN</td>\n",
       "      <td>NaN</td>\n",
       "      <td>2017-06-09 00:02:31 +0000</td>\n",
       "      <td>&lt;a href=\"http://twitter.com/download/iphone\" r...</td>\n",
       "      <td>Here's a very large dog. He has a date later. ...</td>\n",
       "      <td>https://twitter.com/dog_rates/status/872967104...</td>\n",
       "      <td>12</td>\n",
       "      <td>10</td>\n",
       "      <td>None</td>\n",
       "      <td>...</td>\n",
       "      <td>NaN</td>\n",
       "      <td>NaN</td>\n",
       "      <td>NaN</td>\n",
       "      <td>5059</td>\n",
       "      <td>False</td>\n",
       "      <td>NaN</td>\n",
       "      <td>&lt;a href=\"http://twitter.com/download/iphone\" r...</td>\n",
       "      <td>False</td>\n",
       "      <td>{'id': 4196983835, 'id_str': '4196983835', 'na...</td>\n",
       "      <td>doggo</td>\n",
       "    </tr>\n",
       "    <tr>\n",
       "      <th>88</th>\n",
       "      <td>871515927908634625</td>\n",
       "      <td>NaN</td>\n",
       "      <td>NaN</td>\n",
       "      <td>2017-06-04 23:56:03 +0000</td>\n",
       "      <td>&lt;a href=\"http://twitter.com/download/iphone\" r...</td>\n",
       "      <td>This is Napolean. He's a Raggedy East Nicaragu...</td>\n",
       "      <td>https://twitter.com/dog_rates/status/871515927...</td>\n",
       "      <td>12</td>\n",
       "      <td>10</td>\n",
       "      <td>Napolean</td>\n",
       "      <td>...</td>\n",
       "      <td>NaN</td>\n",
       "      <td>NaN</td>\n",
       "      <td>NaN</td>\n",
       "      <td>3246</td>\n",
       "      <td>False</td>\n",
       "      <td>NaN</td>\n",
       "      <td>&lt;a href=\"http://twitter.com/download/iphone\" r...</td>\n",
       "      <td>False</td>\n",
       "      <td>{'id': 4196983835, 'id_str': '4196983835', 'na...</td>\n",
       "      <td>doggo</td>\n",
       "    </tr>\n",
       "    <tr>\n",
       "      <th>97</th>\n",
       "      <td>869596645499047938</td>\n",
       "      <td>NaN</td>\n",
       "      <td>NaN</td>\n",
       "      <td>2017-05-30 16:49:31 +0000</td>\n",
       "      <td>&lt;a href=\"http://twitter.com/download/iphone\" r...</td>\n",
       "      <td>This is Scout. He just graduated. Officially a...</td>\n",
       "      <td>https://twitter.com/dog_rates/status/869596645...</td>\n",
       "      <td>12</td>\n",
       "      <td>10</td>\n",
       "      <td>Scout</td>\n",
       "      <td>...</td>\n",
       "      <td>NaN</td>\n",
       "      <td>NaN</td>\n",
       "      <td>NaN</td>\n",
       "      <td>2942</td>\n",
       "      <td>False</td>\n",
       "      <td>NaN</td>\n",
       "      <td>&lt;a href=\"http://twitter.com/download/iphone\" r...</td>\n",
       "      <td>False</td>\n",
       "      <td>{'id': 4196983835, 'id_str': '4196983835', 'na...</td>\n",
       "      <td>doggo</td>\n",
       "    </tr>\n",
       "  </tbody>\n",
       "</table>\n",
       "<p>5 rows × 54 columns</p>\n",
       "</div>"
      ],
      "text/plain": [
       "              tweet_id  in_reply_to_status_id_x  in_reply_to_user_id_x  \\\n",
       "9   890240255349198849                      NaN                    NaN   \n",
       "37  884162670584377345                      NaN                    NaN   \n",
       "81  872967104147763200                      NaN                    NaN   \n",
       "88  871515927908634625                      NaN                    NaN   \n",
       "97  869596645499047938                      NaN                    NaN   \n",
       "\n",
       "                    timestamp  \\\n",
       "9   2017-07-26 15:59:51 +0000   \n",
       "37  2017-07-09 21:29:42 +0000   \n",
       "81  2017-06-09 00:02:31 +0000   \n",
       "88  2017-06-04 23:56:03 +0000   \n",
       "97  2017-05-30 16:49:31 +0000   \n",
       "\n",
       "                                             source_x  \\\n",
       "9   <a href=\"http://twitter.com/download/iphone\" r...   \n",
       "37  <a href=\"http://twitter.com/download/iphone\" r...   \n",
       "81  <a href=\"http://twitter.com/download/iphone\" r...   \n",
       "88  <a href=\"http://twitter.com/download/iphone\" r...   \n",
       "97  <a href=\"http://twitter.com/download/iphone\" r...   \n",
       "\n",
       "                                                 text  \\\n",
       "9   This is Cassie. She is a college pup. Studying...   \n",
       "37  Meet Yogi. He doesn't have any important dog m...   \n",
       "81  Here's a very large dog. He has a date later. ...   \n",
       "88  This is Napolean. He's a Raggedy East Nicaragu...   \n",
       "97  This is Scout. He just graduated. Officially a...   \n",
       "\n",
       "                                        expanded_urls  rating_numerator  \\\n",
       "9   https://twitter.com/dog_rates/status/890240255...                14   \n",
       "37  https://twitter.com/dog_rates/status/884162670...                12   \n",
       "81  https://twitter.com/dog_rates/status/872967104...                12   \n",
       "88  https://twitter.com/dog_rates/status/871515927...                12   \n",
       "97  https://twitter.com/dog_rates/status/869596645...                12   \n",
       "\n",
       "    rating_denominator      name    ...     quoted_status_id  \\\n",
       "9                   10    Cassie    ...                  NaN   \n",
       "37                  10      Yogi    ...                  NaN   \n",
       "81                  10      None    ...                  NaN   \n",
       "88                  10  Napolean    ...                  NaN   \n",
       "97                  10     Scout    ...                  NaN   \n",
       "\n",
       "    quoted_status_id_str quoted_status_permalink  retweet_count  retweeted  \\\n",
       "9                    NaN                     NaN           6779      False   \n",
       "37                   NaN                     NaN           2761      False   \n",
       "81                   NaN                     NaN           5059      False   \n",
       "88                   NaN                     NaN           3246      False   \n",
       "97                   NaN                     NaN           2942      False   \n",
       "\n",
       "   retweeted_status                                           source_y  \\\n",
       "9               NaN  <a href=\"http://twitter.com/download/iphone\" r...   \n",
       "37              NaN  <a href=\"http://twitter.com/download/iphone\" r...   \n",
       "81              NaN  <a href=\"http://twitter.com/download/iphone\" r...   \n",
       "88              NaN  <a href=\"http://twitter.com/download/iphone\" r...   \n",
       "97              NaN  <a href=\"http://twitter.com/download/iphone\" r...   \n",
       "\n",
       "    truncated                                               user  dog_stage  \n",
       "9       False  {'id': 4196983835, 'id_str': '4196983835', 'na...      doggo  \n",
       "37      False  {'id': 4196983835, 'id_str': '4196983835', 'na...      doggo  \n",
       "81      False  {'id': 4196983835, 'id_str': '4196983835', 'na...      doggo  \n",
       "88      False  {'id': 4196983835, 'id_str': '4196983835', 'na...      doggo  \n",
       "97      False  {'id': 4196983835, 'id_str': '4196983835', 'na...      doggo  \n",
       "\n",
       "[5 rows x 54 columns]"
      ]
     },
     "execution_count": 94,
     "metadata": {},
     "output_type": "execute_result"
    }
   ],
   "source": [
    "data_clean.head()"
   ]
  },
  {
   "cell_type": "markdown",
   "metadata": {},
   "source": [
    "**There should be two tables.**\n",
    "\n",
    "**Define:**\n",
    "We should have two tables: one for the tweet features like  timestamp, text, url, counts and another for the dog features like ranking, name, dog_stage,  breed. We also have a lot of repeated features that we will drop. We are also not interested in some columns."
   ]
  },
  {
   "cell_type": "markdown",
   "metadata": {},
   "source": [
    "**Code:**"
   ]
  },
  {
   "cell_type": "code",
   "execution_count": 147,
   "metadata": {},
   "outputs": [],
   "source": [
    "tweets_clean = data_clean[['tweet_id','timestamp','source_x','text','expanded_urls','img_num','display_text_range','favorite_count','retweet_count']]"
   ]
  },
  {
   "cell_type": "code",
   "execution_count": 148,
   "metadata": {},
   "outputs": [],
   "source": [
    "dogs_clean = data_clean[['tweet_id','rating_numerator','rating_denominator','name', 'jpg_url','p1','p1_conf','p1_dog','p2','p2_conf','p2_dog','p3','p3_conf','p3_dog','dog_stage']]"
   ]
  },
  {
   "cell_type": "markdown",
   "metadata": {},
   "source": [
    "**Test:**"
   ]
  },
  {
   "cell_type": "code",
   "execution_count": 100,
   "metadata": {},
   "outputs": [
    {
     "data": {
      "text/html": [
       "<div>\n",
       "<style scoped>\n",
       "    .dataframe tbody tr th:only-of-type {\n",
       "        vertical-align: middle;\n",
       "    }\n",
       "\n",
       "    .dataframe tbody tr th {\n",
       "        vertical-align: top;\n",
       "    }\n",
       "\n",
       "    .dataframe thead th {\n",
       "        text-align: right;\n",
       "    }\n",
       "</style>\n",
       "<table border=\"1\" class=\"dataframe\">\n",
       "  <thead>\n",
       "    <tr style=\"text-align: right;\">\n",
       "      <th></th>\n",
       "      <th>tweet_id</th>\n",
       "      <th>timestamp</th>\n",
       "      <th>source_x</th>\n",
       "      <th>text</th>\n",
       "      <th>expanded_urls</th>\n",
       "      <th>img_num</th>\n",
       "      <th>display_text_range</th>\n",
       "      <th>favorite_count</th>\n",
       "      <th>retweet_count</th>\n",
       "    </tr>\n",
       "  </thead>\n",
       "  <tbody>\n",
       "    <tr>\n",
       "      <th>9</th>\n",
       "      <td>890240255349198849</td>\n",
       "      <td>2017-07-26 15:59:51 +0000</td>\n",
       "      <td>&lt;a href=\"http://twitter.com/download/iphone\" r...</td>\n",
       "      <td>This is Cassie. She is a college pup. Studying...</td>\n",
       "      <td>https://twitter.com/dog_rates/status/890240255...</td>\n",
       "      <td>1</td>\n",
       "      <td>[0, 133]</td>\n",
       "      <td>30216</td>\n",
       "      <td>6779</td>\n",
       "    </tr>\n",
       "    <tr>\n",
       "      <th>37</th>\n",
       "      <td>884162670584377345</td>\n",
       "      <td>2017-07-09 21:29:42 +0000</td>\n",
       "      <td>&lt;a href=\"http://twitter.com/download/iphone\" r...</td>\n",
       "      <td>Meet Yogi. He doesn't have any important dog m...</td>\n",
       "      <td>https://twitter.com/dog_rates/status/884162670...</td>\n",
       "      <td>1</td>\n",
       "      <td>[0, 140]</td>\n",
       "      <td>19327</td>\n",
       "      <td>2761</td>\n",
       "    </tr>\n",
       "  </tbody>\n",
       "</table>\n",
       "</div>"
      ],
      "text/plain": [
       "              tweet_id                  timestamp  \\\n",
       "9   890240255349198849  2017-07-26 15:59:51 +0000   \n",
       "37  884162670584377345  2017-07-09 21:29:42 +0000   \n",
       "\n",
       "                                             source_x  \\\n",
       "9   <a href=\"http://twitter.com/download/iphone\" r...   \n",
       "37  <a href=\"http://twitter.com/download/iphone\" r...   \n",
       "\n",
       "                                                 text  \\\n",
       "9   This is Cassie. She is a college pup. Studying...   \n",
       "37  Meet Yogi. He doesn't have any important dog m...   \n",
       "\n",
       "                                        expanded_urls  img_num  \\\n",
       "9   https://twitter.com/dog_rates/status/890240255...        1   \n",
       "37  https://twitter.com/dog_rates/status/884162670...        1   \n",
       "\n",
       "   display_text_range  favorite_count  retweet_count  \n",
       "9            [0, 133]           30216           6779  \n",
       "37           [0, 140]           19327           2761  "
      ]
     },
     "execution_count": 100,
     "metadata": {},
     "output_type": "execute_result"
    }
   ],
   "source": [
    "tweets_clean.head(2)"
   ]
  },
  {
   "cell_type": "code",
   "execution_count": 99,
   "metadata": {},
   "outputs": [
    {
     "data": {
      "text/html": [
       "<div>\n",
       "<style scoped>\n",
       "    .dataframe tbody tr th:only-of-type {\n",
       "        vertical-align: middle;\n",
       "    }\n",
       "\n",
       "    .dataframe tbody tr th {\n",
       "        vertical-align: top;\n",
       "    }\n",
       "\n",
       "    .dataframe thead th {\n",
       "        text-align: right;\n",
       "    }\n",
       "</style>\n",
       "<table border=\"1\" class=\"dataframe\">\n",
       "  <thead>\n",
       "    <tr style=\"text-align: right;\">\n",
       "      <th></th>\n",
       "      <th>tweet_id</th>\n",
       "      <th>rating_numerator</th>\n",
       "      <th>rating_denominator</th>\n",
       "      <th>name</th>\n",
       "      <th>jpg_url</th>\n",
       "      <th>p1</th>\n",
       "      <th>p1_conf</th>\n",
       "      <th>p1_dog</th>\n",
       "      <th>p2</th>\n",
       "      <th>p2_conf</th>\n",
       "      <th>p2_dog</th>\n",
       "      <th>p3</th>\n",
       "      <th>p3_conf</th>\n",
       "      <th>p3_dog</th>\n",
       "      <th>dog_stage</th>\n",
       "    </tr>\n",
       "  </thead>\n",
       "  <tbody>\n",
       "    <tr>\n",
       "      <th>3362</th>\n",
       "      <td>680161097740095489</td>\n",
       "      <td>12</td>\n",
       "      <td>10</td>\n",
       "      <td>Goliath</td>\n",
       "      <td>https://pbs.twimg.com/media/CXBq6RPWkAAaNuU.jpg</td>\n",
       "      <td>bluetick</td>\n",
       "      <td>0.268681</td>\n",
       "      <td>True</td>\n",
       "      <td>miniature_pinscher</td>\n",
       "      <td>0.125652</td>\n",
       "      <td>True</td>\n",
       "      <td>English_setter</td>\n",
       "      <td>0.089373</td>\n",
       "      <td>True</td>\n",
       "      <td>floofer</td>\n",
       "    </tr>\n",
       "    <tr>\n",
       "      <th>3839</th>\n",
       "      <td>668507509523615744</td>\n",
       "      <td>10</td>\n",
       "      <td>10</td>\n",
       "      <td>a</td>\n",
       "      <td>https://pbs.twimg.com/media/CUcECBYWcAAzFRg.jpg</td>\n",
       "      <td>basenji</td>\n",
       "      <td>0.055379</td>\n",
       "      <td>True</td>\n",
       "      <td>Shetland_sheepdog</td>\n",
       "      <td>0.054322</td>\n",
       "      <td>True</td>\n",
       "      <td>whippet</td>\n",
       "      <td>0.051913</td>\n",
       "      <td>True</td>\n",
       "      <td>floofer</td>\n",
       "    </tr>\n",
       "    <tr>\n",
       "      <th>2900</th>\n",
       "      <td>717537687239008257</td>\n",
       "      <td>11</td>\n",
       "      <td>10</td>\n",
       "      <td>a</td>\n",
       "      <td>https://pbs.twimg.com/media/CfU0t75W4AAUo9V.jpg</td>\n",
       "      <td>golden_retriever</td>\n",
       "      <td>0.779356</td>\n",
       "      <td>True</td>\n",
       "      <td>Labrador_retriever</td>\n",
       "      <td>0.052511</td>\n",
       "      <td>True</td>\n",
       "      <td>kuvasz</td>\n",
       "      <td>0.049811</td>\n",
       "      <td>True</td>\n",
       "      <td>floofer</td>\n",
       "    </tr>\n",
       "    <tr>\n",
       "      <th>2007</th>\n",
       "      <td>887705289381826560</td>\n",
       "      <td>13</td>\n",
       "      <td>10</td>\n",
       "      <td>Jeffrey</td>\n",
       "      <td>https://pbs.twimg.com/media/DFHDQBbXgAEqY7t.jpg</td>\n",
       "      <td>basset</td>\n",
       "      <td>0.821664</td>\n",
       "      <td>True</td>\n",
       "      <td>redbone</td>\n",
       "      <td>0.087582</td>\n",
       "      <td>True</td>\n",
       "      <td>Weimaraner</td>\n",
       "      <td>0.026236</td>\n",
       "      <td>True</td>\n",
       "      <td>floofer</td>\n",
       "    </tr>\n",
       "    <tr>\n",
       "      <th>2467</th>\n",
       "      <td>790337589677002753</td>\n",
       "      <td>12</td>\n",
       "      <td>10</td>\n",
       "      <td>Maggie</td>\n",
       "      <td>https://pbs.twimg.com/media/CvfX2AnWYAAQTay.jpg</td>\n",
       "      <td>Pembroke</td>\n",
       "      <td>0.658808</td>\n",
       "      <td>True</td>\n",
       "      <td>Cardigan</td>\n",
       "      <td>0.153096</td>\n",
       "      <td>True</td>\n",
       "      <td>toy_terrier</td>\n",
       "      <td>0.102299</td>\n",
       "      <td>True</td>\n",
       "      <td>floofer</td>\n",
       "    </tr>\n",
       "  </tbody>\n",
       "</table>\n",
       "</div>"
      ],
      "text/plain": [
       "                tweet_id  rating_numerator  rating_denominator     name  \\\n",
       "3362  680161097740095489                12                  10  Goliath   \n",
       "3839  668507509523615744                10                  10        a   \n",
       "2900  717537687239008257                11                  10        a   \n",
       "2007  887705289381826560                13                  10  Jeffrey   \n",
       "2467  790337589677002753                12                  10   Maggie   \n",
       "\n",
       "                                              jpg_url                p1  \\\n",
       "3362  https://pbs.twimg.com/media/CXBq6RPWkAAaNuU.jpg          bluetick   \n",
       "3839  https://pbs.twimg.com/media/CUcECBYWcAAzFRg.jpg           basenji   \n",
       "2900  https://pbs.twimg.com/media/CfU0t75W4AAUo9V.jpg  golden_retriever   \n",
       "2007  https://pbs.twimg.com/media/DFHDQBbXgAEqY7t.jpg            basset   \n",
       "2467  https://pbs.twimg.com/media/CvfX2AnWYAAQTay.jpg          Pembroke   \n",
       "\n",
       "       p1_conf  p1_dog                  p2   p2_conf  p2_dog              p3  \\\n",
       "3362  0.268681    True  miniature_pinscher  0.125652    True  English_setter   \n",
       "3839  0.055379    True   Shetland_sheepdog  0.054322    True         whippet   \n",
       "2900  0.779356    True  Labrador_retriever  0.052511    True          kuvasz   \n",
       "2007  0.821664    True             redbone  0.087582    True      Weimaraner   \n",
       "2467  0.658808    True            Cardigan  0.153096    True     toy_terrier   \n",
       "\n",
       "       p3_conf  p3_dog dog_stage  \n",
       "3362  0.089373    True   floofer  \n",
       "3839  0.051913    True   floofer  \n",
       "2900  0.049811    True   floofer  \n",
       "2007  0.026236    True   floofer  \n",
       "2467  0.102299    True   floofer  "
      ]
     },
     "execution_count": 99,
     "metadata": {},
     "output_type": "execute_result"
    }
   ],
   "source": [
    "dogs_clean.sample(5)"
   ]
  },
  {
   "cell_type": "markdown",
   "metadata": {},
   "source": [
    "### Quality\n",
    "\n",
    "**Wrong datatype for some columns.**\n",
    "\n",
    "**Define:**\n",
    "We have to change the following datatypes using astype and to_datetime methods:\n",
    "\n",
    "tweet_id: from int to string\n",
    "\n",
    "timestamp: from string to datatime"
   ]
  },
  {
   "cell_type": "markdown",
   "metadata": {},
   "source": [
    "**Code:**"
   ]
  },
  {
   "cell_type": "code",
   "execution_count": 149,
   "metadata": {},
   "outputs": [
    {
     "name": "stderr",
     "output_type": "stream",
     "text": [
      "/opt/conda/lib/python3.6/site-packages/pandas/core/generic.py:4405: SettingWithCopyWarning: \n",
      "A value is trying to be set on a copy of a slice from a DataFrame.\n",
      "Try using .loc[row_indexer,col_indexer] = value instead\n",
      "\n",
      "See the caveats in the documentation: http://pandas.pydata.org/pandas-docs/stable/indexing.html#indexing-view-versus-copy\n",
      "  self[name] = value\n"
     ]
    }
   ],
   "source": [
    "tweets_clean.tweet_id = tweets_clean.tweet_id.astype(str)\n",
    "dogs_clean.tweet_id = dogs_clean.tweet_id.astype(str)\n",
    "tweets_clean.timestamp = pd.to_datetime(tweets_clean.timestamp)"
   ]
  },
  {
   "cell_type": "markdown",
   "metadata": {},
   "source": [
    "**Test:**"
   ]
  },
  {
   "cell_type": "code",
   "execution_count": 104,
   "metadata": {},
   "outputs": [
    {
     "data": {
      "text/plain": [
       "tweet_id                      object\n",
       "timestamp             datetime64[ns]\n",
       "source_x                      object\n",
       "text                          object\n",
       "expanded_urls                 object\n",
       "img_num                        int64\n",
       "display_text_range            object\n",
       "favorite_count                 int64\n",
       "retweet_count                  int64\n",
       "dtype: object"
      ]
     },
     "execution_count": 104,
     "metadata": {},
     "output_type": "execute_result"
    }
   ],
   "source": [
    "tweets_clean.dtypes"
   ]
  },
  {
   "cell_type": "code",
   "execution_count": 105,
   "metadata": {},
   "outputs": [
    {
     "data": {
      "text/plain": [
       "tweet_id               object\n",
       "rating_numerator        int64\n",
       "rating_denominator      int64\n",
       "name                   object\n",
       "jpg_url                object\n",
       "p1                     object\n",
       "p1_conf               float64\n",
       "p1_dog                   bool\n",
       "p2                     object\n",
       "p2_conf               float64\n",
       "p2_dog                   bool\n",
       "p3                     object\n",
       "p3_conf               float64\n",
       "p3_dog                   bool\n",
       "dog_stage              object\n",
       "dtype: object"
      ]
     },
     "execution_count": 105,
     "metadata": {},
     "output_type": "execute_result"
    }
   ],
   "source": [
    "dogs_clean.dtypes"
   ]
  },
  {
   "cell_type": "markdown",
   "metadata": {},
   "source": [
    "**Invalid names.**\n",
    "\n",
    "**Define:**\n",
    "We have two problems with the name column:\n",
    "- None insteed of NaN\n",
    "- Invalid names like a, an, the, among others\n",
    "\n",
    "We will convert all of this entries to NaN using the convert method."
   ]
  },
  {
   "cell_type": "markdown",
   "metadata": {},
   "source": [
    "**Code:**"
   ]
  },
  {
   "cell_type": "code",
   "execution_count": 151,
   "metadata": {},
   "outputs": [
    {
     "name": "stderr",
     "output_type": "stream",
     "text": [
      "/opt/conda/lib/python3.6/site-packages/pandas/core/generic.py:5890: SettingWithCopyWarning: \n",
      "A value is trying to be set on a copy of a slice from a DataFrame\n",
      "\n",
      "See the caveats in the documentation: http://pandas.pydata.org/pandas-docs/stable/indexing.html#indexing-view-versus-copy\n",
      "  self._update_inplace(new_data)\n"
     ]
    }
   ],
   "source": [
    "dogs_clean['name'].replace('None', np.nan, inplace=True)"
   ]
  },
  {
   "cell_type": "code",
   "execution_count": 157,
   "metadata": {},
   "outputs": [
    {
     "data": {
      "text/plain": [
       "2833           Ziva\n",
       "4682            Zoe\n",
       "2079           Zoey\n",
       "1995           Zoey\n",
       "3765           Zoey\n",
       "2107          Zooey\n",
       "5492           Zuzu\n",
       "2455              a\n",
       "2900              a\n",
       "3508              a\n",
       "3752              a\n",
       "3740              a\n",
       "3813              a\n",
       "3378              a\n",
       "3507              a\n",
       "3749              a\n",
       "3770              a\n",
       "3580              a\n",
       "3484              a\n",
       "2910              a\n",
       "3483              a\n",
       "3566              a\n",
       "3776              a\n",
       "3421              a\n",
       "3549              a\n",
       "3784              a\n",
       "2729              a\n",
       "3970              a\n",
       "3045              a\n",
       "3870              a\n",
       "           ...     \n",
       "5013              a\n",
       "3619              a\n",
       "3820              a\n",
       "4751              a\n",
       "2738              a\n",
       "2727              a\n",
       "3906              a\n",
       "3876              a\n",
       "3883              a\n",
       "3843              a\n",
       "3839              a\n",
       "3833              a\n",
       "3337       actually\n",
       "4834            all\n",
       "3951             an\n",
       "3967             an\n",
       "2743             an\n",
       "3046             an\n",
       "3826             an\n",
       "3953             an\n",
       "3367             by\n",
       "3113        getting\n",
       "2784        getting\n",
       "732             his\n",
       "2387     incredibly\n",
       "2954    infuriating\n",
       "5118           just\n",
       "789            just\n",
       "4763           just\n",
       "3644           just\n",
       "Name: name, Length: 80, dtype: object"
      ]
     },
     "execution_count": 157,
     "metadata": {},
     "output_type": "execute_result"
    }
   ],
   "source": [
    "dogs_clean.name.sort_values()[1340:1420]"
   ]
  },
  {
   "cell_type": "code",
   "execution_count": 158,
   "metadata": {},
   "outputs": [
    {
     "name": "stderr",
     "output_type": "stream",
     "text": [
      "/opt/conda/lib/python3.6/site-packages/pandas/core/generic.py:5890: SettingWithCopyWarning: \n",
      "A value is trying to be set on a copy of a slice from a DataFrame\n",
      "\n",
      "See the caveats in the documentation: http://pandas.pydata.org/pandas-docs/stable/indexing.html#indexing-view-versus-copy\n",
      "  self._update_inplace(new_data)\n"
     ]
    }
   ],
   "source": [
    "no_name = ['a','an','the','officially','one','very','just','unacceptable','this','such','space','quite','my','not','getting','his','incredibly','infuriating','light','actually','all','by']\n",
    "dogs_clean['name'].replace(no_name, np.nan, inplace=True)\n"
   ]
  },
  {
   "cell_type": "markdown",
   "metadata": {},
   "source": [
    "**Test:**"
   ]
  },
  {
   "cell_type": "code",
   "execution_count": 159,
   "metadata": {},
   "outputs": [
    {
     "data": {
      "text/plain": [
       "2833     Ziva\n",
       "4682      Zoe\n",
       "2079     Zoey\n",
       "1995     Zoey\n",
       "3765     Zoey\n",
       "2107    Zooey\n",
       "5492     Zuzu\n",
       "81        NaN\n",
       "136       NaN\n",
       "147       NaN\n",
       "Name: name, dtype: object"
      ]
     },
     "execution_count": 159,
     "metadata": {},
     "output_type": "execute_result"
    }
   ],
   "source": [
    "dogs_clean.name.sort_values()[1340:1350]"
   ]
  },
  {
   "cell_type": "markdown",
   "metadata": {},
   "source": [
    "**Innacurate rating_denominators.**\n",
    "\n",
    "**Define:**\n",
    "All the denominators should be 10 but there are some entries with another values. Since they are a little few we can delete them."
   ]
  },
  {
   "cell_type": "markdown",
   "metadata": {},
   "source": [
    "**Code:**"
   ]
  },
  {
   "cell_type": "code",
   "execution_count": 162,
   "metadata": {},
   "outputs": [],
   "source": [
    "dogs_clean = dogs_clean[dogs_clean.rating_denominator == 10]"
   ]
  },
  {
   "cell_type": "markdown",
   "metadata": {},
   "source": [
    "**Test:**"
   ]
  },
  {
   "cell_type": "code",
   "execution_count": 163,
   "metadata": {},
   "outputs": [
    {
     "data": {
      "text/plain": [
       "10    1980\n",
       "Name: rating_denominator, dtype: int64"
      ]
     },
     "execution_count": 163,
     "metadata": {},
     "output_type": "execute_result"
    }
   ],
   "source": [
    "dogs_clean.rating_denominator.value_counts()"
   ]
  },
  {
   "cell_type": "markdown",
   "metadata": {},
   "source": [
    "**Inadequate breed predictions**\n",
    "\n",
    "**Define:**\n",
    "There are some breed predictions that are not even dogs. We have to adress this issue. First lets check if there are some entries in which any of the three predictions are dogs. Since in this cases we don't have any information on the dog's breed we should delate this entries. We also need to convert all entries to lowercase to avoid some possible problems."
   ]
  },
  {
   "cell_type": "markdown",
   "metadata": {},
   "source": [
    "**Code:**"
   ]
  },
  {
   "cell_type": "code",
   "execution_count": 166,
   "metadata": {},
   "outputs": [],
   "source": [
    "no_dog = (dogs_clean.p1_dog == False) & (dogs_clean.p2_dog == False) & (dogs_clean.p3_dog == False)"
   ]
  },
  {
   "cell_type": "code",
   "execution_count": 170,
   "metadata": {},
   "outputs": [
    {
     "data": {
      "text/plain": [
       "308"
      ]
     },
     "execution_count": 170,
     "metadata": {},
     "output_type": "execute_result"
    }
   ],
   "source": [
    "dogs_clean[no_dog].tweet_id.count()"
   ]
  },
  {
   "cell_type": "code",
   "execution_count": 171,
   "metadata": {},
   "outputs": [],
   "source": [
    "dog = ~((dogs_clean.p1_dog == False) & (dogs_clean.p2_dog == False) & (dogs_clean.p3_dog == False))"
   ]
  },
  {
   "cell_type": "code",
   "execution_count": 173,
   "metadata": {},
   "outputs": [],
   "source": [
    "dogs_clean=dogs_clean[dog]"
   ]
  },
  {
   "cell_type": "code",
   "execution_count": 175,
   "metadata": {},
   "outputs": [],
   "source": [
    "dogs_clean.p1 = dogs_clean.p1.str.lower()\n",
    "dogs_clean.p2 = dogs_clean.p2.str.lower()\n",
    "dogs_clean.p3 = dogs_clean.p3.str.lower()"
   ]
  },
  {
   "cell_type": "markdown",
   "metadata": {},
   "source": [
    "**Test**:"
   ]
  },
  {
   "cell_type": "code",
   "execution_count": 176,
   "metadata": {},
   "outputs": [
    {
     "data": {
      "text/plain": [
       "golden_retriever             139\n",
       "labrador_retriever            91\n",
       "pembroke                      88\n",
       "chihuahua                     79\n",
       "pug                           54\n",
       "chow                          41\n",
       "samoyed                       39\n",
       "pomeranian                    38\n",
       "toy_poodle                    37\n",
       "malamute                      29\n",
       "cocker_spaniel                27\n",
       "french_bulldog                25\n",
       "chesapeake_bay_retriever      23\n",
       "miniature_pinscher            22\n",
       "german_shepherd               20\n",
       "seat_belt                     20\n",
       "siberian_husky                19\n",
       "eskimo_dog                    18\n",
       "shetland_sheepdog             18\n",
       "staffordshire_bullterrier     18\n",
       "rottweiler                    17\n",
       "shih-tzu                      17\n",
       "cardigan                      17\n",
       "maltese_dog                   17\n",
       "beagle                        17\n",
       "italian_greyhound             16\n",
       "kuvasz                        16\n",
       "lakeland_terrier              16\n",
       "dalmatian                     14\n",
       "great_pyrenees                13\n",
       "                            ... \n",
       "rapeseed                       1\n",
       "window_shade                   1\n",
       "silky_terrier                  1\n",
       "refrigerator                   1\n",
       "ram                            1\n",
       "bookshop                       1\n",
       "remote_control                 1\n",
       "cash_machine                   1\n",
       "upright                        1\n",
       "wood_rabbit                    1\n",
       "scotch_terrier                 1\n",
       "military_uniform               1\n",
       "guinea_pig                     1\n",
       "vacuum                         1\n",
       "timber_wolf                    1\n",
       "bonnet                         1\n",
       "syringe                        1\n",
       "water_buffalo                  1\n",
       "stone_wall                     1\n",
       "clumber                        1\n",
       "maillot                        1\n",
       "piggy_bank                     1\n",
       "polecat                        1\n",
       "sulphur-crested_cockatoo       1\n",
       "tabby                          1\n",
       "feather_boa                    1\n",
       "handkerchief                   1\n",
       "japanese_spaniel               1\n",
       "soccer_ball                    1\n",
       "laptop                         1\n",
       "Name: p1, Length: 214, dtype: int64"
      ]
     },
     "execution_count": 176,
     "metadata": {},
     "output_type": "execute_result"
    }
   ],
   "source": [
    "dogs_clean.p1.value_counts()"
   ]
  }
 ],
 "metadata": {
  "kernelspec": {
   "display_name": "Python 3",
   "language": "python",
   "name": "python3"
  },
  "language_info": {
   "codemirror_mode": {
    "name": "ipython",
    "version": 3
   },
   "file_extension": ".py",
   "mimetype": "text/x-python",
   "name": "python",
   "nbconvert_exporter": "python",
   "pygments_lexer": "ipython3",
   "version": "3.7.3"
  }
 },
 "nbformat": 4,
 "nbformat_minor": 2
}
